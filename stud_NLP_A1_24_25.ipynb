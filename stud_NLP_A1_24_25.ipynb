{
  "cells": [
    {
      "cell_type": "markdown",
      "metadata": {
        "id": "e1I7_qy2rYZl"
      },
      "source": [
        "# Lab 1: Text Corpora and Language Modelling\n",
        "\n",
        "Welcome to the first lab assignment of INFOMNLP 2025.\n",
        "\n",
        "This lab is meant to help you get familiar with some language data, and use this data to estimate simple models called N-gram language models.\n",
        "\n",
        "First, you will use the **Penn Treebank**, which is a collection of newspaper articles from the newspaper\n",
        "The Wall Street Journal. The idea is to examine the data and notice interesting properties. This will not take more than a few lines of code. The Penn Treebank may be the most widely used corpus in NLP.\n",
        "\n",
        "Then you will use a corpus consisting of **TedX** talks. This you will use to estimate an **N-gram language model** for different orders of N, and use this for some tasks.\n",
        "\n",
        "The dataset URLs are in the notebook and certain cells are responsible for downloading them.\n",
        "\n",
        "The questions marked **Extra** or **Optional** are an additional challenge for those interested in going the extra mile. There are no points for them."
      ]
    },
    {
      "cell_type": "markdown",
      "metadata": {
        "id": "-T11u_DzP4K6"
      },
      "source": [
        "# Rules\n",
        "\n",
        "You are greatly encouraged to add comments to your code describing what particular lines of code do (in general, a great habit to have in your coding life).\n",
        "Additionally, please follow these rules when submitting the notebook:\n",
        "\n",
        "* Put all code in the cell with the `# YOUR CODE HERE` comment.\n",
        "* For theoretical questions, put your solution in the `YOUR ANSWER HERE` or `ANSWER UNDER THIS LINE` cells (and keep the header if any).\n",
        "* Don't change or delete any initially provided cells, either text or code, unless explicitly instructed to do so.\n",
        "* Don't delete the comment lines `# TEST...` or edit their code cells. The test cells are for sanity checking. Passing them doesn't necessarily mean that your code is fine.\n",
        "* Don't change the names of provided functions and variables or arguments of the functions.\n",
        "* Don't clear the output of your code cells.\n",
        "* Don't output unnecessary info (e.g., printing variables for debugging purposes). This clutters the notebook and slows down the grading. You can have print() in the code, but comment them out before submitting the notebook.\n",
        "* Delete those cells that you inserted for your own debugging/testing purposes.\n",
        "* Don't forget to fill in the **contribution information**.\n",
        "* Don't forget to fill in the **work description section** per exercise.\n",
        "* Test your code and **make sure we can run your notebook** in the colab environment.\n",
        "* A single notebook file (without archiving) per group should be submitted via BB.\n",
        "\n",
        "<font color=\"red\">Following these rules helps us to grade the submissions relatively efficiently. If these rules are violated, a submission will be subject to penalty points.</font>  "
      ]
    },
    {
      "cell_type": "markdown",
      "metadata": {
        "id": "nNT1WNEnlkBC"
      },
      "source": [
        "# <font color=\"red\">Contributions</font>\n",
        "\n",
        "**Names:**\n",
        "\n",
        "Alexia Ntantouri <br>\n",
        "Juan David Liut Aymar <br>\n",
        "\n",
        "**Contributions:**\n",
        "\n",
        "**EX. 1.1** <br>\n",
        "**a:** code and answer - Alexia and David<br>\n",
        "**b:** code and improvement - Alexia and David<br>\n",
        "**c:** code, testing and improvement - Alexia and David<br>\n",
        "**d:** code - Alexia and David<br>\n",
        "\n",
        "**EX. 1.2** <br>\n",
        "**a:** code - Alexia and David<br>\n",
        "**b:** code and answer - Alexia and David<br>\n",
        "\n",
        "**EX. 2.1:** code, testing and refinement - Alexia and David<br>\n",
        "**EX. 2.2:** code, testing and refinement - Alexia and David<br>\n",
        "**EX. 2.3:** code and answer - Alexia and David<br>\n",
        "**EX. 2.4:** code and answer - Alexia and David<br>\n",
        "**EX. 2.5:** code and answer - Alexia and David<br>"
      ]
    },
    {
      "cell_type": "markdown",
      "metadata": {
        "id": "UXUCfBV-9l7-"
      },
      "source": [
        "# General instructions\n",
        "\n",
        "Before diving into the exercises, keep in mind that the variables defined previously can be reused in the subsequent cells. So there is no need to redefine the same variable in multiple sections, e.g., it is sufficient to read the file in a variable once and later reuse the value of the variable, instead of re-reading the file.   \n",
        "\n",
        "If your code is too long and uses several code cells instead of a single code cell, rethink how to organize data in variables so that you can easily access the required info. Reading about [list comprehension](https://realpython.com/list-comprehension-python/#leverage-list-comprehensions) can be useful.\n",
        "\n",
        "Your code will often be evaluated based on its behaviour. So, during the grading some code cells are executed. If code runtime is too long than expected, this will hinder grading.\n",
        "\n",
        "<font color=\"red\">**The cases similar to the above-mentioned ones will be subject to penalty points.**</font>\n",
        "\n",
        "<font color=\"red\">**Pay attention to test units**</font> that are either provided as assert cases or as comments. Test units help you by giving you a hint about the correct answer. Note that **passing test units doesn't guarantee the full points** for an exercise because test units are incomplete, and the code might fail on other test units."
      ]
    },
    {
      "cell_type": "markdown",
      "metadata": {
        "id": "nQzq7NHLhHAf"
      },
      "source": [
        "# Set up"
      ]
    },
    {
      "cell_type": "code",
      "execution_count": null,
      "metadata": {
        "id": "L7pnku7cvBpp"
      },
      "outputs": [],
      "source": [
        "%matplotlib inline\n",
        "import matplotlib\n",
        "import numpy as np\n",
        "import random\n",
        "import pandas as pd\n",
        "import seaborn as sns\n",
        "import matplotlib.pyplot as plt\n",
        "from collections import defaultdict, Counter"
      ]
    },
    {
      "cell_type": "code",
      "execution_count": null,
      "metadata": {
        "id": "BlFpCuMjgtPj",
        "colab": {
          "base_uri": "https://localhost:8080/"
        },
        "outputId": "3302c38c-d52d-4ba0-a912-a331d79d8927"
      },
      "outputs": [
        {
          "output_type": "stream",
          "name": "stdout",
          "text": [
            "2025-05-06 17:39:19 URL:https://naturallogic.pro/_files_/download/mNLP/PTB/sec02-21.gold.tagged [8158400/8158400] -> \"data/sec02-21.gold.tagged\" [1]\n",
            "2025-05-06 17:39:21 URL:https://naturallogic.pro/_files_/download/mNLP/PTB/sec00.gold.tagged [399917/399917] -> \"data/sec00.gold.tagged\" [1]\n",
            "2025-05-06 17:39:26 URL:https://naturallogic.pro/_files_/download/mNLP/TED/ted-train.txt [24743290/24743290] -> \"data/ted-train.txt\" [1]\n",
            "2025-05-06 17:39:27 URL:https://naturallogic.pro/_files_/download/mNLP/TED/ted-test.txt [25383/25383] -> \"data/ted-test.txt\" [1]\n"
          ]
        }
      ],
      "source": [
        "! rm -rf data # remove if it was downloaded\n",
        "! wget -nv -P data https://naturallogic.pro/_files_/download/mNLP/PTB/sec02-21.gold.tagged # download the file\n",
        "! wget -nv -P data https://naturallogic.pro/_files_/download/mNLP/PTB/sec00.gold.tagged\n",
        "! wget -nv -P data https://naturallogic.pro/_files_/download/mNLP/TED/ted-train.txt\n",
        "! wget -nv -P data https://naturallogic.pro/_files_/download/mNLP/TED/ted-test.txt"
      ]
    },
    {
      "cell_type": "markdown",
      "metadata": {
        "id": "2xIJozz2Z7VE"
      },
      "source": [
        "# Golab variables"
      ]
    },
    {
      "cell_type": "code",
      "execution_count": null,
      "metadata": {
        "id": "8SW7DNhHZ_ay"
      },
      "outputs": [],
      "source": [
        "PTB_FILES = {'train': 'data/sec02-21.gold.tagged', 'dev': 'data/sec00.gold.tagged'}\n",
        "TED_FILES = {'train': 'data/ted-train.txt', 'test': 'data/ted-test.txt'}"
      ]
    },
    {
      "cell_type": "markdown",
      "metadata": {
        "id": "HYUkG7TKsAAi"
      },
      "source": [
        "# 1. Penn treebank"
      ]
    },
    {
      "cell_type": "markdown",
      "metadata": {
        "id": "flkRSFQtrYZo"
      },
      "source": [
        "## Ex 1.1 [22pt]\n",
        "\n",
        "You are provided with a corpus containing tokens with their Part-of-Speech tags (POS-tags for short). The format is\n",
        "**token|POS** (one sentence per line) and the file name is **sec02-21.gold.tagged**. This data is extracted from Sections 02-21 from the Penn Treebank: these sections are most commonly used for training statistical models like POS taggers and parsers.\n",
        "\n",
        "Note the **distinction between token & word**. \"Token\" is a technical term and represents an occurrence of a word. Here, \"word\" covers both lexical words and other symbols (e.g., punctuations or numbers). Often \"word\" is called \"token type\". So, one can say that a token type can have different occurrences and each occurrence is a token.\n",
        "\n",
        "**[Hint]** **Figure 8.2** in chapter 8 of Jurafsky and Martin (see [here](https://web.stanford.edu/~jurafsky/slp3/8.pdf#page=4)) holds a summary of POS-tags used in the Penn Treebank tagset together with their meaning and some examples.\n",
        "\n",
        "**[Hint]** The Python library [collections](https://docs.python.org/3.7/library/collections.html) has an object called `Counter` which will come in handy for this exercise."
      ]
    },
    {
      "cell_type": "markdown",
      "metadata": {
        "id": "L_md_iporYZs"
      },
      "source": [
        "### (a) Corpus & vocab [5pt]\n",
        "\n",
        "**Print** the corpus size (i.e. the number of **tokens**).  \n",
        "**Print** the size of the **vocabulary** of the corpus. Estimate the vocabulary size both by **lowercasing** all the tokens as well as by leaving the tokens in their **original orthography**.  \n",
        "\n",
        "What is the **advantage** of lowercasing all the tokens in your corpus?  \n",
        "What is a notable **downside**?  \n",
        "**Give examples** of the advantage and the downside."
      ]
    },
    {
      "cell_type": "code",
      "execution_count": null,
      "metadata": {
        "id": "jxrgbpkdvBpy",
        "colab": {
          "base_uri": "https://localhost:8080/"
        },
        "outputId": "008fdc32-1240-45ec-a54d-33e779242dfb"
      },
      "outputs": [
        {
          "output_type": "stream",
          "name": "stdout",
          "text": [
            "Vocabulary size (original orthography): 44210\n",
            "Vocabulary size (lowercased): 39384\n"
          ]
        }
      ],
      "source": [
        "## YOUR CODE HERE ##\n",
        "# Use PTB_FILES golab var\n",
        "# TEST: original orthography vocab size = ...10 (i.e., the last two digits of the vocab size are \"10\")\n",
        "\n",
        "token_count = 0\n",
        "vocabulary_original = set()\n",
        "vocabulary_lower = set()\n",
        "\n",
        "word_freq = Counter()\n",
        "\n",
        "pos_freq = defaultdict(Counter)\n",
        "\n",
        "# Open and read the training file from the PTB corpus\n",
        "with open(PTB_FILES['train'], 'r', encoding='utf-8') as file:\n",
        "    for line_num, line in enumerate(file):\n",
        "        if line.strip():  # skip empty lines\n",
        "            pairs = line.strip().split()\n",
        "            for pair in pairs: # a pair is a token/word with its POS tag\n",
        "                if '|' not in pair:\n",
        "                    continue  # skip malformed pairs\n",
        "                word, pos = pair.rsplit('|', 1) # extract the token and the pos tag from each pair\n",
        "\n",
        "                token_count += 1          # Increment token counter\n",
        "                word_freq[word] += 1      # Count word frequency\n",
        "                pos_freq[pos][word] += 1  # Count word frequency per POS tag\n",
        "\n",
        "                # Add word to origal and lowercased vocabulary\n",
        "                vocabulary_original.add(word)\n",
        "                vocabulary_lower.add(word.lower())\n",
        "\n",
        "print(\"Vocabulary size (original orthography):\", len(vocabulary_original))\n",
        "print(\"Vocabulary size (lowercased):\", len(vocabulary_lower))"
      ]
    },
    {
      "cell_type": "markdown",
      "metadata": {
        "id": "G4F1hlWNvBpz"
      },
      "source": [
        "█████ ANSWER UNDER THIS LINE █████\n",
        "\n",
        "**Advantages of lowercasing all the tokens in the corpus**\n",
        "\n",
        "By lowercasing all tokens in the corpus, we reduce the vocabulary size, therefore we decrease the number of unique word types the model needs to learn.\n",
        "\n",
        "This can lead to **improved data sparsity**, since each word type will have more occurrences in the training data, leading to more robust statistical estimates for language models. For example, if \"President\" and \"president\" are both in the corpus, lowercasing merges them into one word, increasing frequency and reducing vocabulary size.\n",
        "\n",
        "Lowercasing also leads to **better generalization**, since it helps the model recognize patterns regardless of capitalization. For example, it learns that \"The\" and \"the\" refer to the same concept.\n",
        "\n",
        "**Disadvantages of lowercasing all the tokens in the corpus**\n",
        "\n",
        "The main downside of lowercasing is the loss of information encoded in the capitalization. This can be important for:\n",
        "\n",
        "- **Distinguishing proper nouns:** Names of people, places, and organizations (e.g., \"Apple\" the company vs. \"apple\" the fruit, \"May\" the month vs. \"may\" the auxiliary verb) are typically capitalized. Lowercasing would cause confusion between these distinct entities.\n",
        "\n",
        "- **Sentence boundaries:** Capitalization often marks the beginning of a sentence. This information is lost when everything is lowercased.\n",
        "\n",
        "- **Stylistic variations:** Different capitalization styles can convey emphasis or have specific meanings in certain contexts (e.g., using all caps to represent shouting).\n"
      ]
    },
    {
      "cell_type": "markdown",
      "metadata": {
        "id": "Wn1cBwu4vBp0"
      },
      "source": [
        "------\n",
        "**For the rest of this exercise <font color=\"red\">you should use the original orthography</font> of the data when answering the questions.**\n",
        "\n",
        "------"
      ]
    },
    {
      "cell_type": "markdown",
      "metadata": {
        "id": "1D1kQ1N_vBp1"
      },
      "source": [
        "### [Extra]\n",
        "\n",
        "Plot a graph of word frequency versus rank of a word, in this corpus. Does this corpus obey **Zipf’s law**? For a better picture you might need to make the plot horizontally wide or consider an initial cutoff of ranked words."
      ]
    },
    {
      "cell_type": "code",
      "execution_count": null,
      "metadata": {
        "id": "2A_By8MRvBp2",
        "scrolled": true,
        "colab": {
          "base_uri": "https://localhost:8080/",
          "height": 676
        },
        "outputId": "7f22b684-64d5-4d19-fa00-9cfb98aed038"
      },
      "outputs": [
        {
          "output_type": "display_data",
          "data": {
            "text/plain": [
              "<Figure size 1200x600 with 1 Axes>"
            ],
            "image/png": "[encoded data removed]"
          },
          "metadata": {}
        },
        {
          "output_type": "stream",
          "name": "stdout",
          "text": [
            "Frequency of the 1st word: 48310\n",
            "Frequency of the 2nd word: 40839\n",
            "Frequency of the 3rd word: 38798\n",
            "Frequency of the 4th word: 22782\n"
          ]
        }
      ],
      "source": [
        "## YOUR CODE HERE ##\n",
        "\n",
        "# Per each word, we have the frequency\n",
        "# Per rank, re order the words based on their frequency (descending order)\n",
        "top_n = 30\n",
        "\n",
        "data = word_freq.most_common(top_n)\n",
        "words, freqs = zip(*data)\n",
        "\n",
        "\n",
        "# Plot graph of word frequency versus rank of a word\n",
        "\n",
        "plt.figure(figsize=(12, 6))\n",
        "plt.bar(words, freqs)\n",
        "plt.xticks(rotation=45)\n",
        "plt.title(f\"Top {top_n} Most Frequent Words\")\n",
        "plt.xlabel(\"Words\")\n",
        "plt.ylabel(\"Frequencies\")\n",
        "plt.tight_layout()\n",
        "plt.show()\n",
        "\n",
        "# Print frequency 1st, 2nd, 3rd, 4th,\n",
        "print(f\"Frequency of the 1st word: {freqs[0]}\")\n",
        "print(f\"Frequency of the 2nd word: {freqs[1]}\")\n",
        "print(f\"Frequency of the 3rd word: {freqs[2]}\")\n",
        "print(f\"Frequency of the 4th word: {freqs[3]}\")"
      ]
    },
    {
      "cell_type": "markdown",
      "metadata": {
        "id": "4IKxQutFd-VM"
      },
      "source": [
        "█████ ANSWER UNDER THIS LINE █████\n",
        "\n",
        "The corpus doesn't seem to obey to Zipf's law.\n",
        "\n",
        "Zipf's law states that the frequency of a word is inversely proportional to its rank in the frequency table. In simpler terms, the most frequent word  will occur approximately twice as often as the second most frequent word, three times as often as the third most frequent word, and so on.\n",
        "\n",
        "In this case, we can see that the most frequent word occur 48310 times, which is not the double of the frequency of the second word (4083).\n",
        "The same happens between the first (48310) and the third word (38798): the first one is not three times larger than the third one.\n"
      ]
    },
    {
      "cell_type": "markdown",
      "metadata": {
        "id": "r1ZeD-QRwVvC"
      },
      "source": [
        "### (b) Tags & tokens [5pt]\n",
        "\n",
        "**Print** a list of the **10 most commonly occurring POS tags** in the data. For each of these POS tags, additionally **print** the **3 most common token types** (i.e., words) that belong to that tag. Print raw counts for each printed tag and token type."
      ]
    },
    {
      "cell_type": "code",
      "execution_count": null,
      "metadata": {
        "id": "LjWaeRNmvBp5",
        "colab": {
          "base_uri": "https://localhost:8080/"
        },
        "outputId": "7cf90e7e-a4f8-40d7-8d66-9144f5941a47"
      },
      "outputs": [
        {
          "output_type": "stream",
          "name": "stdout",
          "text": [
            "NN (132134): %(4866); company(2457); year(2220)\n",
            "IN (99413): of(22778); in(14852); for(7907)\n",
            "NNP (90711): Mr.(4147); U.S.(1577); Corp.(1186)\n",
            "DT (82147): the(40831); a(19151); The(6753)\n",
            "JJ (59643): new(1396); other(1298); last(990)\n",
            "NNS (59332): years(1164); shares(1128); sales(939)\n",
            ", (48314): ,(48310); an(1); 2(1)\n",
            ". (39252): .(38798); ?(392); !(62)\n",
            "CD (36148): million(4355); billion(1780); one(1203)\n",
            "RB (30232): n't(3211); also(1420); not(1287)\n"
          ]
        }
      ],
      "source": [
        "## YOUR CODE HERE ##\n",
        "# Use the following printing format and test your numbers for the DT pos tag:\n",
        "# DT (82147):\tthe(40831); a(19151); The(6753)\n",
        "\n",
        "# Compute the total amount of tokens for each POS tag\n",
        "pos_counts = {pos: sum(counter.values()) for pos, counter in pos_freq.items()} # Use pos_freq from Ex 1.1 (a)\n",
        "\n",
        "# Get the most frequent 10 tags\n",
        "top_pos = sorted(pos_counts.items(), key=lambda x: x[1], reverse=True)[:10]\n",
        "\n",
        "for pos, total in top_pos:\n",
        "    # Get the 3 most frequent tokens for that tag\n",
        "    top_three = [f\"{word}({count})\" for word, count in pos_freq[pos].most_common(3)]\n",
        "\n",
        "    # Save the tokens in a string\n",
        "    top_three_str = \"; \".join(top_three)\n",
        "    print(f\"{pos} ({total}): {top_three_str}\")\n"
      ]
    },
    {
      "cell_type": "markdown",
      "metadata": {
        "id": "sPTQVzwvvBp6"
      },
      "source": [
        "### (c) Ambiguity [6pt]\n",
        "\n",
        "A single token type (i.e. word) may occur with several POS tags. For example, *record* can be both a **noun** *(buy a record)* or a **verb** *(record a lecture)*. This makes POS tags extremely useful for **disambiguation**.\n",
        "\n",
        "**Print** the percentage(!) of the **ambiguous** words in the vocabulary(!) (i.e. token types that have more than one POS tag?).  \n",
        "\n",
        "Ambiguous words do not account for a great percentage of the vocabulary. Yet they are among the most commonly occurring words in the English language.  \n",
        "**Print** the percentage of the dataset that is ambiguous (i.e., counting tokens of ambiguous token types/words wrt data size).  \n",
        "(Don't round percentages when printing)\n",
        "\n",
        "**Print** the **10 most frequently shared POS tag pairs** (i.e. POS tag pairs that share most words).  \n",
        "**Print** the **4 most ambiguous** words (i.e. based on the number of POS tags it can get)"
      ]
    },
    {
      "cell_type": "code",
      "source": [
        "## YOUR CODE HERE ##\n",
        "# TEST: There are 1060 token types whose tokens get both ('VBD', 'VBN') tags\n",
        "# TEST: in other words, a set of tokens with VBD and a set of tokens with VBN share 1060 elements\n",
        "\n",
        "# print in the following way:\n",
        "# Print ambiguous tokens and tag pairs as, where tags are ordered alphabetically:\n",
        "# Top 10 confused tag pairs:\n",
        "#\t('VBD', 'VBN') share 1060 tokens\n",
        "#   ...\n",
        "#\n",
        "# Top 4 ambiguous tokens:\n",
        "# \ttoken: [POS_1, ..., POS_n]\n",
        "#   ...\n",
        "\n",
        "from collections import defaultdict\n",
        "import itertools\n",
        "\n",
        "# Step 1: Build a map from tokens to all their associated tags\n",
        "token_to_tags = defaultdict(set)\n",
        "token_counts = Counter()\n",
        "total_tokens = 0\n",
        "\n",
        "with open(PTB_FILES['train'], 'r') as f:\n",
        "    for line in f:\n",
        "        # Skip empty lines\n",
        "        if not line.strip():\n",
        "            continue\n",
        "\n",
        "        # Remove leading/trailing whitespace and split the line into a list of strings\n",
        "        pairs = line.strip().split()\n",
        "\n",
        "        # Iterate through each of those word–tag pair strings.\n",
        "        for pair in pairs:\n",
        "            if '|' not in pair:\n",
        "                continue  # skip malformed pairs\n",
        "\n",
        "            # Split the word|tag pair into word and tag using rsplit (from the right)\n",
        "            word, tag = pair.rsplit('|', 1)\n",
        "\n",
        "            # Add this POS tag to the set of tags associated with the current token type (word)\n",
        "            token_to_tags[word].add(tag)\n",
        "\n",
        "            # Count how many times this token (word) appears in total\n",
        "            token_counts[word] += 1\n",
        "\n",
        "            # Increment the total number of tokens seen in the dataset\n",
        "            total_tokens += 1\n",
        "\n",
        "# Step 2: Identify ambiguous tokens\n",
        "# Create a set of tokens that have more than one POS tag (i.e., are ambiguous)\n",
        "ambiguous_tokens = {token for token, tags in token_to_tags.items() if len(tags) > 1}\n",
        "ambiguous_token_count = len(ambiguous_tokens)\n",
        "vocab_size = len(token_to_tags)\n",
        "\n",
        "# Step 3: Percentage of vocabulary that is ambiguous\n",
        "percent_ambig_vocab = (ambiguous_token_count / vocab_size) * 100\n",
        "\n",
        "# Step 4: Percentage of the dataset (tokens) that are ambiguous\n",
        "# Sum up the total number of token instances (not types) in the dataset that are ambiguous\n",
        "# i.e., count how many times ambiguous words actually appear in the corpus\n",
        "ambiguous_token_instance_count = sum(token_counts[token] for token in ambiguous_tokens)\n",
        "percent_ambig_dataset = (ambiguous_token_instance_count / total_tokens) * 100\n",
        "\n",
        "print(f\"Percentage of ambiguous token types in vocabulary: {percent_ambig_vocab} %\")\n",
        "print(f\"Percentage of corpus tokens that are ambiguous: {percent_ambig_dataset} %\")\n",
        "\n",
        "# Step 5: Find POS tag pairs that share the most tokens\n",
        "# Build a reverse map: tag -> set of tokens\n",
        "tag_to_tokens = defaultdict(set)\n",
        "for token, tags in token_to_tags.items():\n",
        "    for tag in tags:\n",
        "        tag_to_tokens[tag].add(token)\n",
        "\n",
        "# Now get all unique tag pairs and count how many tokens they share\n",
        "pair_counts = []\n",
        "\n",
        "# Get a sorted list of all POS tags\n",
        "tag_list = sorted(tag_to_tokens.keys()) # List to store (tag pair, number of shared tokens)\n",
        "for t1, t2 in itertools.combinations(tag_list, 2):\n",
        "    # Find the intersection (shared tokens) between the two POS tag sets\n",
        "    shared = tag_to_tokens[t1] & tag_to_tokens[t2]\n",
        "    # Append the tag pair and the number of shared tokens to the list\n",
        "    pair_counts.append(((t1, t2), len(shared)))\n",
        "\n",
        "# Sort and get top 10 tag pairs\n",
        "top_pairs = sorted(pair_counts, key=lambda x: x[1], reverse=True)[:10]\n",
        "\n",
        "print(\"\\nTop 10 confused tag pairs:\")\n",
        "for (t1, t2), count in top_pairs:\n",
        "    print(f\"\\t({t1!r}, {t2!r}) share {count} tokens\")\n",
        "\n",
        "# Step 6: Top 4 most ambiguous tokens (by number of POS tags)\n",
        "top_ambiguous = sorted(token_to_tags.items(), key=lambda x: len(x[1]), reverse=True)[:4]\n",
        "\n",
        "print(\"\\nTop 4 ambiguous tokens:\")\n",
        "for token, tags in top_ambiguous:\n",
        "    tag_list = sorted(tags)\n",
        "    print(f\"\\t{token}: {tag_list}\")\n"
      ],
      "metadata": {
        "colab": {
          "base_uri": "https://localhost:8080/"
        },
        "id": "M6nNmfcEm91L",
        "outputId": "031c9ace-9bb5-4bc0-a6cf-df8e32f9b93f"
      },
      "execution_count": null,
      "outputs": [
        {
          "output_type": "stream",
          "name": "stdout",
          "text": [
            "Percentage of ambiguous token types in vocabulary: 13.469803211942999 %\n",
            "Percentage of corpus tokens that are ambiguous: 55.079005800643756 %\n",
            "\n",
            "Top 10 confused tag pairs:\n",
            "\t('VBD', 'VBN') share 1060 tokens\n",
            "\t('JJ', 'NN') share 962 tokens\n",
            "\t('NN', 'VB') share 775 tokens\n",
            "\t('VB', 'VBP') share 752 tokens\n",
            "\t('NN', 'NNP') share 627 tokens\n",
            "\t('JJ', 'VBN') share 456 tokens\n",
            "\t('NN', 'VBP') share 403 tokens\n",
            "\t('NN', 'VBG') share 378 tokens\n",
            "\t('NNS', 'VBZ') share 364 tokens\n",
            "\t('JJ', 'NNP') share 297 tokens\n",
            "\n",
            "Top 4 ambiguous tokens:\n",
            "\tset: ['JJ', 'NN', 'VB', 'VBD', 'VBN', 'VBP', 'VBZ']\n",
            "\tmany: ['DT', 'JJ', 'NN', 'NP', 'PDT', 'RB', 'VB']\n",
            "\topen: ['JJ', 'NN', 'RB', 'RP', 'VB', 'VBP', 'VBZ']\n",
            "\tdown: ['IN', 'JJ', 'NN', 'RB', 'RBR', 'RP', 'VBP']\n"
          ]
        }
      ]
    },
    {
      "cell_type": "markdown",
      "metadata": {
        "id": "AODJl38yvBp7"
      },
      "source": [
        "### (d) Explain [6pt]\n",
        "\n",
        "**Take one** of the 4 most ambiguous words and for **each** of its possible POS tags **give** a sentence/phrase from the **training data** that shows the use of the token with its POS tag.  \n",
        "For the other **three** words, **pick** one POS tag that seems to you least likely for the word and give the corresponding sentence/phrase from the training data.  \n",
        "From these seven examples, **discuss** those that you find it somewhat surprisong or unexpected, supporting your response with reasoning.      \n",
        "Consult [Figure 17.2](https://web.stanford.edu/~jurafsky/slp3/17.pdf#page=4) for the interpretation of the POS tags. If you would like a more detailed explanation of the POS tags, consult [this technical report](http://www.cs.cmu.edu/afs/cs/Web/People/dgovinda/pdf/semantics/tagguide.pdf). Of course, you don't need to read it entirely, just use it to search for certain POS tags in it."
      ]
    },
    {
      "cell_type": "code",
      "source": [
        "# Optional code cell for searching certain toke-tag pairs in the training data\n",
        "\n",
        "import re\n",
        "\n",
        "# Set the word you want to search for\n",
        "search_word = ' open|RP'  # Example word to search for\n",
        "\n",
        "# Open the training file from PTB_FILES\n",
        "with open(PTB_FILES['train'], 'r') as f:\n",
        "    sentences = f.read().splitlines()  # Read file and split into lines (sentences)\n",
        "\n",
        "# List to store sentences that contain the search word\n",
        "matching_sentences = []\n",
        "\n",
        "# Loop over each sentence in the corpus\n",
        "for sentence in sentences:\n",
        "    # # Check if the search word is in the sentence (case-insensitive search)\n",
        "    # if search_word.lower() in sentence.lower():\n",
        "    #     matching_sentences.append(sentence)  # Add sentence to the list\n",
        "\n",
        "    # Check if the search word is in the sentence (case-sensitive search)\n",
        "    if search_word in sentence:\n",
        "        matching_sentences.append(sentence)  # Add sentence to the list\n",
        "\n",
        "# Display the matching sentences\n",
        "for sentence in matching_sentences:\n",
        "    print(sentence)"
      ],
      "metadata": {
        "id": "sjA1A0BlQF1O",
        "colab": {
          "base_uri": "https://localhost:8080/"
        },
        "outputId": "ec35579a-e5fc-4156-aa8b-cc85418a6640"
      },
      "execution_count": null,
      "outputs": [
        {
          "output_type": "stream",
          "name": "stdout",
          "text": [
            "Perhaps|RB most|RBS exciting|JJ ,|, the|DT device|NN is|VBZ thrusting|VBG open|RP a|DT window|NN to|TO the|DT workings|NNS of|IN the|DT brain|NN .|. \n",
            "All|DT major|JJ roadways|NNS except|IN Interstate|NN 880|CD ,|, known|VBN as|IN the|DT Nimitz|NNP Freeway|NNP ,|, and|CC the|DT Bay|NNP Bridge|NNP were|VBD open|RP by|IN 1|CD p.m.|RB yesterday|NN .|. \n",
            "The|DT court|NN left|VBD open|RP whether|IN FERC|NNP could|MD reimpose|VB a|DT new|JJ deadline|NN later|RB .|. \n"
          ]
        }
      ]
    },
    {
      "cell_type": "markdown",
      "metadata": {
        "id": "c18r5YJM7xDG"
      },
      "source": [
        "█████ ANSWER UNDER THIS LINE █████\n",
        "\n",
        "**Ambiguous token, chosen: 'set'**\n",
        "\n",
        "| POS Tag | Example Sentence/Phrase | Interpretation |\n",
        "|---------|--------------------------|----------------|\n",
        "| **JJ** (Adjective) | \"...at a **set** price...\" | Describes a fixed, predetermined price. |\n",
        "| **NN** (Noun) | \"We cruise toward another **set** of pilings.\" | Refers to a group or collection of items. |\n",
        "| **VB** (Verb, base form) | \"...power to **set** margin requirements.\" | Infinitive/command verb form. |\n",
        "| **VBD** (Verb, past tense) | \"The court **set** a hearing...\" | Past tense verb. |\n",
        "| **VBN** (Verb, past participle) | \"Budget is **set** at $1.5 million.\" | Used in passive construction. |\n",
        "| **VBP** (Verb, non-3rd person singular present) | \"...they **set** up shop.\" | Present tense with plural subject. |\n",
        "| **VBZ** (Verb, 3rd person singular present) | \"...SEC **set** standards...\" | Likely a tagging error; \"set\" should be base form (VB), not VBZ. |\n",
        "\n",
        "<br>\n",
        "\n",
        "---\n",
        "\n",
        "<br>\n",
        "\n",
        "**One Unusual POS Tag Example for Each of the Other Words**\n",
        "\n",
        "1. **many** — VB (Verb, base form)\n",
        "\n",
        "  **Example:** \"Like **many** of his colleagues, he did n't serve in Vietnam in the 1960s yet embraced a hawkish defense and foreign policy...\"\n",
        "\n",
        "  **Explanation:** This seems to be a  tagging error, probably due to automated annotation.\n",
        "\n",
        "2. **open** — RP (Particle)\n",
        "\n",
        "  **Example:** \"...thrusting **open** a window to the workings of the brain.\"\n",
        "  \n",
        "  **Explanation:** \"Open\" is used as a **particle** (RP), part of a phrasal verb \"thrust open\". Less common POS, but correct in this construction. Demonstrates flexibility of \"open\".\n",
        "\n",
        "3. **down** — JJ (Adjective)\n",
        "\n",
        "  **Example:** \"Other senators want to lower the **down** payments required...\"\n",
        "  \n",
        "  **Explanation:** In this sentence, \"down\" is used to describe the type of \"payments.\" This usage aligns with the adjectival function of modifying a noun.\n",
        "\n",
        "\n",
        "The tokens that appear to be surprising or unexpected are:<br>\n",
        "\n",
        "*   **Many:** It's surprising it has 7 different tags, since it is mainly known as determinant (DT) or adjective. The fact the tags verb (VB) or adverb (RB) are associated to it is unexpected. Instead the classification as noun (NN) or (NP) can be due to the fact that the word many appears with other nouns.\n",
        "*   **Open:** It is expected to be an adjective (JJ) or a verb (VB) but it has been also classified as noun (NN), adverb (RB), particle (RP), and conjugated verbs (VBP, VBZ), which are unexpected for this word, even though it also reflects its grammatical flexibility.\n",
        "\n",
        "\n"
      ]
    },
    {
      "cell_type": "markdown",
      "metadata": {
        "id": "s9fwBwWBrYZ3"
      },
      "source": [
        "## Ex 1.2 [8pt]\n",
        "\n",
        "You are also provided with another file called **sec00.gold.tagged**.\n",
        "Section 00 of the Penn Treebank is typically used as development data."
      ]
    },
    {
      "cell_type": "markdown",
      "metadata": {
        "id": "j1GVBPzvvBp9"
      },
      "source": [
        "### (a) Unseen % [5pt]\n",
        "\n",
        "**Print** the percentages and the raw count of the **unseen development vocabulary** and **unseen development data** (i.e., token types and tokens that occur in the development data but not in the training data). Percentages should be calculated wrt the development vocabulary/data size and they shouldn't be rounded."
      ]
    },
    {
      "cell_type": "code",
      "execution_count": null,
      "metadata": {
        "id": "o7Fjx4q9vBp9",
        "scrolled": false,
        "colab": {
          "base_uri": "https://localhost:8080/"
        },
        "outputId": "af22b7cb-4fed-4e99-d8d8-a6bf0bf13272"
      },
      "outputs": [
        {
          "output_type": "stream",
          "name": "stdout",
          "text": [
            "Unseen vocab percentage = 16.34932724041635% (1288)\n",
            "Unseen data percentage = 3.804323895909471% (1728)\n",
            "Difference = 12.54500334450688%\n"
          ]
        }
      ],
      "source": [
        "## YOUR CODE HERE ##\n",
        "# Use PTB_FILES global var\n",
        "# print as\n",
        "# Unseen vocab percentage = X1% (X2)\n",
        "# Unseen data percentage = Y1% (Y2)\n",
        "# TEST: Difference between the percentages (X1-Y1) should be in the interval 10-15%\n",
        "\n",
        "dev_vocab = set()\n",
        "dev_token_count = 0\n",
        "unseen_token_count = 0\n",
        "# Counter for unseen tokens by POS tag\n",
        "unseen_pos_counter = Counter()\n",
        "\n",
        "# Open and read the training file from the PTB corpus\n",
        "with open(PTB_FILES['dev'], 'r', encoding='utf-8') as dev_file:\n",
        "    for line in dev_file:\n",
        "        if line.strip():\n",
        "            pairs = line.strip().split()\n",
        "            for pair in pairs: # a pair is a token with its POS tag\n",
        "                if '|' not in pair:\n",
        "                    continue\n",
        "                token, pos = pair.rsplit('|', 1) # extract the token and the pos tag from each pair\n",
        "                dev_vocab.add(token)\n",
        "                dev_token_count += 1\n",
        "                if token not in vocabulary_original: # get vocabulary_original from Ex 1.1 (a)\n",
        "                    unseen_token_count += 1\n",
        "                    unseen_pos_counter[pos] += 1\n",
        "\n",
        "unseen_vocab = dev_vocab - vocabulary_original\n",
        "unseen_vocab_count = len(unseen_vocab)\n",
        "\n",
        "unseen_vocab_pct = (unseen_vocab_count / len(dev_vocab)) * 100\n",
        "unseen_data_pct = (unseen_token_count / dev_token_count) * 100\n",
        "\n",
        "print(f\"Unseen vocab percentage = {unseen_vocab_pct}% ({unseen_vocab_count})\")\n",
        "print(f\"Unseen data percentage = {unseen_data_pct}% ({unseen_token_count})\")\n",
        "\n",
        "diff = unseen_vocab_pct - unseen_data_pct\n",
        "print(f\"Difference = {diff}%\")\n"
      ]
    },
    {
      "cell_type": "markdown",
      "metadata": {
        "id": "sWXDWzuxvBp-"
      },
      "source": [
        "### (b) Unseen tok tag [3pt]\n",
        "\n",
        "**Print** the top **five** POS tags that the most **unseen tokens** belong to."
      ]
    },
    {
      "cell_type": "code",
      "execution_count": null,
      "metadata": {
        "id": "VgbUb8nHvBp-",
        "scrolled": true,
        "colab": {
          "base_uri": "https://localhost:8080/"
        },
        "outputId": "742fe081-f023-401f-899c-2274ac87ef97"
      },
      "outputs": [
        {
          "output_type": "stream",
          "name": "stdout",
          "text": [
            "NNP (815)\n",
            "JJ (258)\n",
            "NN (210)\n",
            "NNS (146)\n",
            "CD (114)\n"
          ]
        }
      ],
      "source": [
        "## YOUR CODE HERE ##\n",
        "# Print in the following format:\n",
        "# POS_tag (the_number_of_corresponding_unseen_tokens)\n",
        "\n",
        "# Get top 5 POS tags by number of unseen tokens\n",
        "top5_unseen_pos = unseen_pos_counter.most_common(5) # get unseen_pos_counter from Ex 1.2 (a)\n",
        "\n",
        "# Print\n",
        "for pos, count in top5_unseen_pos:\n",
        "    print(f\"{pos} ({count})\")"
      ]
    },
    {
      "cell_type": "markdown",
      "metadata": {
        "id": "AX2TLItmnHf0"
      },
      "source": [
        "## Work description for Ex 1\n",
        "\n",
        "**Ex 1.1:**\n",
        "\n",
        "**(a) Corpus & Vocab:**\n",
        "We extracted tokens, creating separate lists for tokens with and without lowercasing to compare vocabulary sizes.\n",
        "\n",
        "**(b) Tags & Tokens:**\n",
        "We used a Counter to track tag counts and constructed a map from POS tags to the tokens associated with each tag to find the most common tokens associated with each tag. The challenge here was organizing the data efficiently to avoid redundant computations.\n",
        "\n",
        "**(c) Ambiguity:**\n",
        "This part was more complex. We first built a map from tokens to their POS tags (`token_to_tags`), then reversed it to map tags to tokens (`tag_to_tokens`). We used `token_to_tag` to find the percentage of the ambiguous tokens/token types and the most ambiguous word. We used the `tag_to_tokens` map to identify POS tag pairs sharing the most words.\n",
        "\n",
        "**(d) Explain:**\n",
        "We searched the training data for sentences containing specific ambiguous words (e.g., \"set\") to illustrate their usage with different POS tags. The surprising cases (e.g., \"set\" as VBZ) were analyzed, revealing potential tagging errors or rare usages.\n",
        "\n",
        "**Ex 1.2:**\n",
        "\n",
        "**(a) Unseen %:**\n",
        "We extracted vocabulary and tokens from both training and development datasets, then computed the percentage of token types and tokens that occur in the development set but not in the training set. The main challenge was ensuring the correct calculation of the percentages.\n",
        "\n",
        "**(b) Unseen Tok Tag:**\n",
        "Using a Counter, we tracked the POS tags of unseen tokens in the development set to find the top five POS tags that the most unseen tokens belong to.\n",
        "\n",
        "**Assistance and Tools:**\n",
        "- Throughout the exercise, we used GenAI as a supportive tool. For instance, in Exercise 1.1 (c), we sought assistance in how to approach the problem and ended up reversing the token-to-tag map as an efficient method to solve it. GenAI helped with the syntax of specific code snippets, such as set intersections, sorting and selecting most common elements from a counter.</font>\n",
        "\n",
        "- The TAs also provided guidance when needed. For example, we asked the TA for Ex 1.1 (b) if `,` and `.` are POS tags, which he confirmed they were."
      ]
    },
    {
      "cell_type": "markdown",
      "metadata": {
        "id": "6cbdG9BsdRdh"
      },
      "source": [
        "# 2. Language Models"
      ]
    },
    {
      "cell_type": "markdown",
      "metadata": {
        "id": "jECmv9_BvBp-"
      },
      "source": [
        "\n",
        "\n",
        "The following questions presuppose J&M's [chapter 3 on n-gram language models](https://web.stanford.edu/~jurafsky/slp3/3.pdf).\n",
        "\n",
        "Models that assign **probabilities** to **sequences of words** are called **language\n",
        "models** or **LMs**. The simplest model that assigns probabilities to sentences and sequences of words is the **N-gram** model.\n",
        "\n",
        "Recall that an *N*-gram language model uses **conditional probabilities** of the form\n",
        "    \n",
        "$$P(w_k \\mid w_{k-N+1} \\dots w_{k-1})$$\n",
        "\n",
        "to **approximate** the full **joint probability**\n",
        "\n",
        "$$P(w_1 \\dots w_n)$$\n",
        "\n",
        "of a sequence of words $w_1 \\dots w_n$.\n",
        "\n",
        "The easiest way of obtaining estimates for the probabilities $P(w_k \\mid w_{k-N+1} \\dots w_{k-1})$ is to use the **maximum likelihood estimate** or **MLE**, a widely used statistical estimation method ([read more](https://en.wikipedia.org/wiki/Maximum_likelihood_estimation)). You count and normalize:\n",
        "\n",
        "$$P_{MLE}(w_k \\mid w_{k-N+1} \\dots w_{k-1}) = \\frac{C(w_{k-N+1} \\dots w_{k-1} w_k)}{C(w_{k-N+1} \\dots w_{k-1})}.$$"
      ]
    },
    {
      "cell_type": "markdown",
      "metadata": {
        "id": "zJJRUQLpQIYN"
      },
      "source": [
        "## Ex 2.1 [15pt]\n",
        "\n",
        "In this exercise you will have to train $N$-gram language models with an optional smoothing."
      ]
    },
    {
      "cell_type": "markdown",
      "metadata": {
        "id": "Em9s4OTHfYda"
      },
      "source": [
        "#### Some help\n",
        "\n",
        "The `collections` library has another useful data structure: the `defaultdict`. Some example uses (learn more [here](https://realpython.com/python-defaultdict/) if needed):"
      ]
    },
    {
      "cell_type": "markdown",
      "metadata": {
        "id": "Uy6bNZpedd4a"
      },
      "source": [
        "**[Datastructure hint]** If you store the smoothed language in a naive manner (that is, to store *all* the numbers separately) your datastructure will get huge! If $V$ is the vocabulary then the smoothed bigram model assigns probabilities to $|V|^2$ entries. If $|V|$ is around 80k, the naive way requires you to store more than 64 billion floats. Yet almost all of these are actually just $P(w_n|w_{n-1}) = \\frac{k}{N + k|V|}$, with $k$ the value with which you smooth and $N=C(w_{n-1})$. Think about how you use this fact to make your model work in practice."
      ]
    },
    {
      "cell_type": "code",
      "execution_count": null,
      "metadata": {
        "id": "NEzYDa-GvBp_",
        "colab": {
          "base_uri": "https://localhost:8080/"
        },
        "outputId": "827c5542-f890-461e-95a3-1d06cd254650"
      },
      "outputs": [
        {
          "output_type": "execute_result",
          "data": {
            "text/plain": [
              "0.0"
            ]
          },
          "metadata": {},
          "execution_count": 11
        }
      ],
      "source": [
        "from collections import defaultdict\n",
        "\n",
        "d = defaultdict(float)\n",
        "d[\"new key\"]"
      ]
    },
    {
      "cell_type": "markdown",
      "metadata": {
        "id": "80cGhiN7vBp_"
      },
      "source": [
        "Compare that to an ordinary dictionary:"
      ]
    },
    {
      "cell_type": "code",
      "execution_count": null,
      "metadata": {
        "id": "hwPC-F7VvBqA"
      },
      "outputs": [],
      "source": [
        "# od = dict()\n",
        "# od[\"new key\"]\n",
        "# Throws an KeyError: 'new key'"
      ]
    },
    {
      "cell_type": "markdown",
      "metadata": {
        "id": "XhC9fVSBvBqA"
      },
      "source": [
        "Other datatypes as `default_factory`:"
      ]
    },
    {
      "cell_type": "code",
      "execution_count": null,
      "metadata": {
        "id": "ANtXMfCDvBqB",
        "colab": {
          "base_uri": "https://localhost:8080/"
        },
        "outputId": "412cceb3-2635-4a8b-e678-f76881a1f270"
      },
      "outputs": [
        {
          "output_type": "stream",
          "name": "stdout",
          "text": [
            "defaultdict(<class 'int'>, {})\n",
            "0\n",
            "defaultdict(<class 'int'>, {'new key': 0})\n"
          ]
        }
      ],
      "source": [
        "d = defaultdict(int)\n",
        "print(d)\n",
        "print(d[\"new key\"])\n",
        "print(d)"
      ]
    },
    {
      "cell_type": "code",
      "execution_count": null,
      "metadata": {
        "id": "gHIBoHbrvBqB",
        "colab": {
          "base_uri": "https://localhost:8080/"
        },
        "outputId": "fdd66406-dd79-474a-9f05-7c4aa1047bf7"
      },
      "outputs": [
        {
          "output_type": "stream",
          "name": "stdout",
          "text": [
            "defaultdict(<class 'list'>, {})\n",
            "[]\n",
            "defaultdict(<class 'list'>, {'new key': []})\n"
          ]
        }
      ],
      "source": [
        "d = defaultdict(list)\n",
        "print(d)\n",
        "print(d[\"new key\"])\n",
        "print(d)"
      ]
    },
    {
      "cell_type": "markdown",
      "metadata": {
        "id": "9Obc7SPcRwB9"
      },
      "source": [
        "Note how the defaultdict is modified after getting a value of a non-existing key. If you want to avoid modifying the defaultdict when getting a value for a non-existing key, do the following:"
      ]
    },
    {
      "cell_type": "code",
      "execution_count": null,
      "metadata": {
        "id": "Z9YsnMXZRwIR",
        "colab": {
          "base_uri": "https://localhost:8080/"
        },
        "outputId": "d282fef0-32f0-46c1-a347-fa3299700928"
      },
      "outputs": [
        {
          "output_type": "stream",
          "name": "stdout",
          "text": [
            "defaultdict(<class 'list'>, {})\n",
            "[]\n",
            "defaultdict(<class 'list'>, {})\n"
          ]
        }
      ],
      "source": [
        "d = defaultdict(list)\n",
        "print(d)\n",
        "print(d.get(\"new key\", d.default_factory()))\n",
        "print(d)"
      ]
    },
    {
      "cell_type": "markdown",
      "metadata": {
        "id": "ReMovWEyvBqC"
      },
      "source": [
        "Converting an already existing `dict`:"
      ]
    },
    {
      "cell_type": "code",
      "execution_count": null,
      "metadata": {
        "id": "eO-PZAXyvBqC",
        "colab": {
          "base_uri": "https://localhost:8080/"
        },
        "outputId": "0f1aefca-9f07-45dc-b943-d02e78542c31"
      },
      "outputs": [
        {
          "output_type": "stream",
          "name": "stdout",
          "text": [
            "value\n",
            "0.0\n"
          ]
        }
      ],
      "source": [
        "d1 = {k: \"value\" for k in range(1, 11)}\n",
        "d = defaultdict(float, d1) # convert it to a defaultdict\n",
        "print(d[5])\n",
        "print(d[100])"
      ]
    },
    {
      "cell_type": "markdown",
      "metadata": {
        "id": "Qup8dlervBqC"
      },
      "source": [
        "This doesn't work:"
      ]
    },
    {
      "cell_type": "code",
      "execution_count": null,
      "metadata": {
        "id": "vFdSoDb9vBqD"
      },
      "outputs": [],
      "source": [
        "# d = defaultdict(10)\n",
        "# Throws a TypeError: first argument must be callable or None"
      ]
    },
    {
      "cell_type": "markdown",
      "metadata": {
        "id": "WN4bK1eGvBqD"
      },
      "source": [
        "Use a `lambda` to make the number `10` `callable`\":"
      ]
    },
    {
      "cell_type": "code",
      "execution_count": null,
      "metadata": {
        "id": "BS8vozeYvBqD",
        "colab": {
          "base_uri": "https://localhost:8080/"
        },
        "outputId": "5e468071-3c7c-424b-f54c-2b4921d2cfb0"
      },
      "outputs": [
        {
          "output_type": "stream",
          "name": "stdout",
          "text": [
            "defaultdict(<function <lambda> at 0x7c81fe525da0>, {})\n",
            "10\n",
            "defaultdict(<function <lambda> at 0x7c81fe525da0>, {'new key': 10})\n"
          ]
        }
      ],
      "source": [
        "d = defaultdict(lambda: 10)\n",
        "print(d)\n",
        "print(d[\"new key\"])\n",
        "print(d)"
      ]
    },
    {
      "cell_type": "code",
      "execution_count": null,
      "metadata": {
        "id": "vegtS6wJvBqE",
        "colab": {
          "base_uri": "https://localhost:8080/"
        },
        "outputId": "cd53b38d-4dd3-471c-ea2f-9b22117a10bf"
      },
      "outputs": [
        {
          "output_type": "stream",
          "name": "stdout",
          "text": [
            "defaultdict(<function <lambda> at 0x7c81fe525f80>, {})\n",
            "defaultdict(<class 'float'>, {})\n",
            "defaultdict(<function <lambda> at 0x7c81fe525f80>, {'new key': defaultdict(<class 'float'>, {})})\n"
          ]
        }
      ],
      "source": [
        "d = defaultdict(lambda: defaultdict(float))\n",
        "print(d)\n",
        "print(d[\"new key\"])\n",
        "print(d)"
      ]
    },
    {
      "cell_type": "markdown",
      "metadata": {
        "id": "ThZCgTQTo4KJ"
      },
      "source": [
        "Note that in some cases the behaviour of lambda functions might be counterintuitive. One of such cases is the closure: [link1](https://realpython.com/python-lambda/#closure), [link2](https://stackoverflow.com/questions/2295290/what-do-lambda-function-closures-capture)."
      ]
    },
    {
      "cell_type": "code",
      "execution_count": null,
      "metadata": {
        "id": "NKYpXbk2cEw2",
        "colab": {
          "base_uri": "https://localhost:8080/"
        },
        "outputId": "b831d308-85a5-435f-ad08-d5c7df9743f9"
      },
      "outputs": [
        {
          "output_type": "stream",
          "name": "stdout",
          "text": [
            "defaultdict(<function <lambda> at 0x7c81fe525580>, {1: defaultdict(<class 'int'>, {1: 2}), 2: defaultdict(<class 'int'>, {1: 3})})\n",
            "2\n",
            "defaultdict(<class 'int'>, {})\n",
            "0\n",
            "defaultdict(<function <lambda> at 0x7c81fe525580>, {1: defaultdict(<class 'int'>, {1: 2}), 2: defaultdict(<class 'int'>, {1: 3})})\n"
          ]
        }
      ],
      "source": [
        "# making a shortcut for the read-only get for defaultdict that supports several keys\n",
        "# i.e. defget(d, [k1, k2]) will return the value of d[k1][k2] without altering d\n",
        "def defget(d, keys):\n",
        "    for k in keys:\n",
        "        d = d.get(k, d.default_factory() if isinstance(d, defaultdict) else 0)\n",
        "    return d\n",
        "\n",
        "# testing if it works as intended\n",
        "d = defaultdict(lambda: defaultdict(int))\n",
        "d[1][1] = 2\n",
        "d[2][1] = 3\n",
        "print(d)\n",
        "print(defget(d, [1, 1]))\n",
        "print(defget(d, [3]))\n",
        "print(defget(d, [3, 1]))\n",
        "print(d)"
      ]
    },
    {
      "cell_type": "markdown",
      "metadata": {
        "id": "6WYXdmJXvBqE"
      },
      "source": [
        "Clever use of a `defaultdict` can be the solution to the problem of data-storing in a smoothing $N$-gram pointed out above:\n",
        "    \n",
        "    d = bigram_frequencies[history] = {w1: 120, w2: 340, w3: 7 ...}\n",
        "    N = sum(d.values())\n",
        "    # d_normalized = .... # normalize d with smoothing applied to elements already in the dictionary  \n",
        "    d_smoothed = defaultdict(lambda: k/(N + kV), d_normalized) # add smoothing to 'unseen' words"
      ]
    },
    {
      "cell_type": "markdown",
      "metadata": {
        "id": "5svCtCyDvBqE"
      },
      "source": [
        "The following function is given to assist you with reading the data from the file in a convenient format. Understand how the function works and figure out how to use it for training n-grams.\n",
        "\n",
        "Note that the function uses padding symbols `<s>` and `</s>` to mark sentence boundaries. **Include `</s>` in the vocabulary (for unigram models too)** which will serve as an indicator of stopping the sentence generation when doing word-by-word sampling (Ex 2.2)."
      ]
    },
    {
      "cell_type": "code",
      "execution_count": null,
      "metadata": {
        "id": "1DnP4YcPvBqF"
      },
      "outputs": [],
      "source": [
        "def read_data(fname, h=1, max_lines=np.inf):\n",
        "    \"\"\"\n",
        "    Reads in the data from a file and returns a vocabulary as a set\n",
        "    and the sentence-padded data as a list of list.\n",
        "\n",
        "    :param fname: path to the file\n",
        "    :param max_lines: the number of top lines to read (can be used for debugging)\n",
        "    :param h: the length of n-gram history\n",
        "    :returns: data as a list of lists and vocabulary as a set\n",
        "    \"\"\"\n",
        "    data = []\n",
        "    start = h * [\"<s>\"]\n",
        "    end = [\"</s>\"]\n",
        "\n",
        "    with open(fname, \"r\") as F:\n",
        "        for k, line in enumerate(F):\n",
        "            # an optional cut-off to read a part of the data\n",
        "            if k > max_lines:\n",
        "                break\n",
        "            words = line.strip().split()\n",
        "            # padding the sentence\n",
        "            sent = start + words + end #also adding the ending for unigrams to capture most likley stopping time when generating the sentences\n",
        "            data.append(sent)\n",
        "    return data"
      ]
    },
    {
      "cell_type": "markdown",
      "metadata": {
        "id": "3dy2LfV1m3Vg"
      },
      "source": [
        "### train_ngram\n",
        "\n",
        "**Complete** the function `train_ngram` so that you can train a count-based $N$-gram language model on the data found in `data/ted-train.txt` and train this for $N=2,3$.\n",
        "\n",
        "**Extend** the function `train_ngram` so that it accepts a parameter `k` for optional add-$k$ smoothing (upgrade the same function, don't define new). For smoothing, in case of histories unseen in the data, use the unigram model instead of the uniform distribution.\n",
        "\n",
        "Note that `ngram` should be a defaultdict of defaultdict because it should return a value for any history and for any next word combination. However, `unigram` need to be a defaultdict with float values as it takes no history into account."
      ]
    },
    {
      "cell_type": "code",
      "source": [
        "def train_ngram(data, N=2, k=0):\n",
        "    \"\"\"\n",
        "    Trains an n-gram language model with optional add-k smoothing\n",
        "    and additionally returns the unigram model\n",
        "\n",
        "    :param data: text-data as returned by the pre-defined function read_data\n",
        "    :param N: (N>1) the order of the ngram e.g. N=2 gives a bigram\n",
        "    :param k: optional add-k smoothing\n",
        "    :returns: ngram and unigram\n",
        "    \"\"\"\n",
        "    # ngram[history][word] = #(history,word)\n",
        "    # for history of length >1, join tokens with a singel white space (see tests below)\n",
        "\n",
        "    ## YOUR CODE HERE ##\n",
        "    ## you can have auxiliary functions if needed, inside this function\n",
        "\n",
        "    # Initialize the ngram and unigram models as defaultdict of defaultdicts\n",
        "    ngram = defaultdict(lambda: defaultdict(int))  # To store counts of N-grams\n",
        "    unigram = defaultdict(int)  # To store counts of unigrams\n",
        "\n",
        "    total_counts = defaultdict(int) # To store the total count of each history\n",
        "\n",
        "    # Iterate over each sentence in the data\n",
        "    for sentence in data:\n",
        "        # Create n-grams for the given sentence (including padding)\n",
        "        for i in range(len(sentence) - N + 1):\n",
        "            history = ' '.join(sentence[i:i+N-1]) # (N-1)-gram history\n",
        "            word = sentence[i + N - 1]  # The N-th word\n",
        "\n",
        "            ngram[history][word] += 1  # Increment count of N-gram\n",
        "\n",
        "            unigram[word] += 1  # Increment count of unigram\n",
        "\n",
        "            total_counts[history] += 1 # Increment the total number of times this 'history' occurred\n",
        "\n",
        "    # The number of different words in the data\n",
        "    vocab_size = len(unigram)\n",
        "\n",
        "    # Creates a function that returns the default smoothed probability\n",
        "    # for any unseen word, based on add-k smoothing.\n",
        "    def create_default_probability(k, total_count, vocab_size):\n",
        "        return lambda: k / (total_count + k * vocab_size)\n",
        "\n",
        "    # Define the corresponding default probability for all the possible unseen histories/words\n",
        "    for history in ngram:\n",
        "        total_count = total_counts[history]\n",
        "        for word in ngram[history]:\n",
        "            ngram[history][word] = (ngram[history][word] + k) / (total_count + k*vocab_size)\n",
        "\n",
        "        # Any unseen words (not seen during training for this specific history) will have a default probability assigned\n",
        "        ngram[history] = defaultdict(create_default_probability(k, total_count, vocab_size), ngram[history])\n",
        "\n",
        "    # BOS and EOS are not considered for the unigram. Not valuable information.\n",
        "    total_count_unigram = sum(unigram[word] for word in unigram if word != '<s>' and word != '</s>')\n",
        "\n",
        "    # Get the smoothed unigram (add default smoothed probability for unkwown words)\n",
        "    smoothed_unigram = defaultdict(create_default_probability(k, total_count_unigram , vocab_size ))\n",
        "    for word in unigram:\n",
        "        smoothed_unigram[word] = (unigram[word] + k) / (total_count_unigram + k*vocab_size)\n",
        "\n",
        "    return ngram, smoothed_unigram\n"
      ],
      "metadata": {
        "id": "H4Yv6EgZSH0Q"
      },
      "execution_count": null,
      "outputs": []
    },
    {
      "cell_type": "code",
      "execution_count": null,
      "metadata": {
        "id": "Scw9yzDYc91M"
      },
      "outputs": [],
      "source": [
        "# This shouldn't take more than 2min\n",
        "\n",
        "# Prepare data\n",
        "Data1 = read_data(TED_FILES['train'], h=1)  # h=1 because we're working with bigrams (2-grams), meaning history of length 1\n",
        "\n",
        "# non-smoothed bigram\n",
        "Bigram, Unigram = train_ngram(Data1, N=2, k=0)\n",
        "\n",
        "# smoothed bigram\n",
        "Bigram_sm, Unigram_sm = train_ngram(Data1, N=2, k=1)\n"
      ]
    },
    {
      "cell_type": "code",
      "execution_count": null,
      "metadata": {
        "id": "CsS5hpWQvBqH"
      },
      "outputs": [],
      "source": [
        "# Running this might take significant amount of memory\n",
        "# Runtime shouldn't take more than 3min\n",
        "\n",
        "# Prepare data for trigram\n",
        "Data2 = read_data(TED_FILES['train'], h=2)  # h=2 because we're working with trigrams (3-grams), meaning history of length 2\n",
        "\n",
        "# non-smoothed trigram\n",
        "Trigram, Unigram_ = train_ngram(Data2, N=3, k=0)\n",
        "# smoothed trigram\n",
        "Trigram_sm, Unigram_sm_ = train_ngram(Data2, N=3, k=1)"
      ]
    },
    {
      "cell_type": "code",
      "execution_count": null,
      "metadata": {
        "id": "2TVjxsuyc91N"
      },
      "outputs": [],
      "source": [
        "#TEST 2.1\n",
        "# Be aware that when getting a value of a non-existing key from defaultdict with d[key] method,\n",
        "# the key gets inserted into the defaultdict. That's why tests use defget\n",
        "assert defget(Bigram, ['all','people']) > 0\n",
        "assert defget(Bigram, ['all','all']) == 0\n",
        "assert defget(Bigram_sm, ['all','all']) == defget(Bigram_sm, ['all','asdasda'])\n",
        "assert defget(Bigram_sm, ['all','asdasda']) > 0\n",
        "assert defget(Trigram, ['<s> <s>','The']) > 0\n",
        "assert defget(Trigram, ['<s> <s>','sun']) == 0\n",
        "assert np.isclose(sum(Trigram['All the'].values()), 1) #almost 1, but not 1 because of float point rounding\n",
        "assert defget(Trigram_sm, ['<s> <s>','sun']) > 0\n",
        "assert defget(Unigram, ['</s>']) > 0\n",
        "assert Unigram == Unigram_\n",
        "assert Unigram_sm == Unigram_sm_"
      ]
    },
    {
      "cell_type": "markdown",
      "metadata": {
        "id": "uHqoEt2zvBqJ"
      },
      "source": [
        "## Ex 2.2 [5pt]\n",
        "\n",
        "You can use an *N*-gram language model to **generate text**. The higher the order *N* the better your model will be able to catch the long-range dependencies that occur in actual sentences and the better your chances are at generating sensible text. But beware: **sparsity** of language data will quickly cause your model to reproduce entire lines from your training data; in such cases, only one $w_k$ was observed for the histories $w_{k-N+1}\\dots w_{k-1}$ in the entire training set."
      ]
    },
    {
      "cell_type": "markdown",
      "metadata": {
        "id": "YbOqa3y5hefa"
      },
      "source": [
        "### Some help\n",
        "\n",
        "**[Hint]** You can use the method of [inverse transform sampling](https://en.wikipedia.org/wiki/Inverse_transform_sampling) to generate a sample from a **categorical distribution**, $p_1\\dots p_k$ such that $p_i \\geq 0$ and $\\sum_{i=1}^k p_i = 1$, as follows:"
      ]
    },
    {
      "cell_type": "code",
      "execution_count": null,
      "metadata": {
        "id": "fman6WFYvBqJ",
        "colab": {
          "base_uri": "https://localhost:8080/"
        },
        "outputId": "6f102cb3-1ea6-4aa2-a5a1-974023f030e0"
      },
      "outputs": [
        {
          "output_type": "stream",
          "name": "stdout",
          "text": [
            "0\n",
            "Counter({1: 497, 0: 218, 2: 195, 3: 90})\n"
          ]
        }
      ],
      "source": [
        "import random\n",
        "\n",
        "P = [0.2,0.5,0.2,0.1]\n",
        "\n",
        "def sample(P):\n",
        "    u = random.random() # random number between 0 and 1\n",
        "    p = 0\n",
        "    for i, p_i in enumerate(P):\n",
        "        p += p_i\n",
        "        if p > u:\n",
        "            return i # the first i s.t. p1 + ... + pi > u\n",
        "\n",
        "print(sample(P))\n",
        "\n",
        "print(Counter([sample(P) for i in range(1000)])) # check to see if the law of large numbers is still true"
      ]
    },
    {
      "cell_type": "markdown",
      "metadata": {
        "id": "jZBZ2mxTvBqK"
      },
      "source": [
        "Inverse transform sampling in the words of Jurafsky and Martin:\n",
        "\n",
        "> Imagine all the words of the English language covering the probability space\n",
        "between 0 and 1, each word covering an interval proportional to its frequency. We\n",
        "choose a random value between 0 and 1 and print the word whose interval includes\n",
        "this chosen value.\n",
        "\n",
        "(J&M, [section 3.3](https://web.stanford.edu/~jurafsky/slp3/3.pdf#page=10))"
      ]
    },
    {
      "cell_type": "markdown",
      "metadata": {
        "id": "hQiNLmMQhO9q"
      },
      "source": [
        "### generate_sent\n",
        "\n",
        "**Complete** the function `generate_sent`. It takes a language model `lm` and an order `N` and should generate a **natural language string(!)** (it shouldn't contain padding symbols and might not be a grammatical sentence) by **sampling** from the language model."
      ]
    },
    {
      "cell_type": "code",
      "execution_count": null,
      "metadata": {
        "id": "MCD2ezj_vBqK"
      },
      "outputs": [],
      "source": [
        "def generate_sent(lm, N):\n",
        "    \"\"\"\n",
        "    Generates sentence from a language model based on N-grams\n",
        "    :param lm: language model based on N-grams\n",
        "    :param N: denoting N-gram parameter\n",
        "    :returns: a string of natural language text\n",
        "    \"\"\"\n",
        "\n",
        "    ## YOUR CODE HERE ##\n",
        "    ## you can have auxiliary functions if needed, inside of outside this function's scope\n",
        "    history = ['<s>'] * (N - 1)\n",
        "    sentence = []\n",
        "\n",
        "    while True:\n",
        "        hist_key = ' '.join(history)\n",
        "        next_words = lm.get(hist_key, {})\n",
        "        if not next_words:\n",
        "            break  # No next words found, end the sentence\n",
        "\n",
        "        words = list(next_words.keys())\n",
        "        probs = list(next_words.values())\n",
        "\n",
        "        # Normalize probabilities to ensure they sum to 1\n",
        "        total_prob = sum(probs)\n",
        "        if total_prob == 0:\n",
        "            break  # Avoid division by zero\n",
        "        probs = [p / total_prob for p in probs]\n",
        "\n",
        "        # Sample the next word using the provided sample function\n",
        "        next_word = words[sample(probs)]\n",
        "        if next_word == '</s>':\n",
        "            break\n",
        "        sentence.append(next_word)\n",
        "        history = history[1:] + [next_word]\n",
        "\n",
        "    return ' '.join(sentence)\n",
        "    raise NotImplementedError(\"Function not implemented yet\")"
      ]
    },
    {
      "cell_type": "code",
      "execution_count": null,
      "metadata": {
        "id": "D0yKCR2xvBqL",
        "colab": {
          "base_uri": "https://localhost:8080/"
        },
        "outputId": "41def253-c958-4540-8e5a-f13f0e6a78a8"
      },
      "outputs": [
        {
          "output_type": "stream",
          "name": "stdout",
          "text": [
            "Bigram:\n",
            "\n",
            "So this because I 'm bound in the night , he presented today .\n",
            "So that I see me descriptions like an origin of fixing bridges .\n",
            "In our millennial generation , ecology , I decided I swear I 'd ask , every apartment .\n",
            "If they allow him in her up .\n",
            "The answer is more .\n",
            "\n",
            "Trigram:\n",
            "\n",
            "Now , how did I choose the spoken word that I could be an independent newspaper , no , no problem .\n",
            "I saw this , and to start with us , not what I told you earlier -- that Winnie Mandela .\n",
            "' My buddy .\n",
            "Every old curator who 'd gone about as accurately as possible , are you .\n",
            "♫ Sweeney : Oh , the fight for your attention .\n"
          ]
        }
      ],
      "source": [
        "#TEST Ex2.2\n",
        "random.seed(2025) #uncommnet if you want to make the output non-deterministic\n",
        "\n",
        "print(\"Bigram:\\n\")\n",
        "print(\"\\n\".join([generate_sent(Bigram, 2) for _ in range(5)]))\n",
        "\n",
        "print(\"\\nTrigram:\\n\")\n",
        "print(\"\\n\".join([generate_sent(Trigram, 3) for _ in range(5)]))"
      ]
    },
    {
      "cell_type": "markdown",
      "metadata": {
        "id": "mPmwIHiqvBqL"
      },
      "source": [
        "### [Extra]\n",
        "No points for this\n",
        "\n",
        "For how many of the histories $w_{k-N+1}\\dots w_{k-1}$ is the number of continuations $w_n$ equal to **one**? Calculate the percentage of such cases for the different orders *N*.\n",
        "\n",
        "And which history has the **most possible continuations**?"
      ]
    },
    {
      "cell_type": "code",
      "source": [
        "## YOUR CODE HERE ##\n",
        "\n",
        "def analyze_ngram_model(lm):\n",
        "    total_histories = len(lm)\n",
        "    one_continuation = sum(1 for history in lm if len(lm[history]) == 1)\n",
        "    max_continuations = max(len(lm[history]) for history in lm)\n",
        "    most_variable_histories = [history for history in lm if len(lm[history]) == max_continuations]\n",
        "\n",
        "    percent_single_continuation = (one_continuation / total_histories) * 100\n",
        "\n",
        "    print(f\"Total histories: {total_histories}\")\n",
        "    print(f\"Histories with only one continuation: {one_continuation} ({percent_single_continuation:.2f}%)\")\n",
        "    print(f\"Max number of continuations for a single history: {max_continuations}\")\n",
        "    print(f\"History/histories with most continuations: {most_variable_histories[:5]}\")  # show only first 5 if many\n",
        "\n",
        "# Apply this to each of the models\n",
        "print(\"Bigram Analysis:\")\n",
        "analyze_ngram_model(Bigram)\n",
        "\n",
        "print(\"\\nSmoothed Bigram Analysis:\")\n",
        "analyze_ngram_model(Bigram_sm)\n",
        "\n",
        "print(\"\\nTrigram Analysis:\")\n",
        "analyze_ngram_model(Trigram)\n",
        "\n",
        "print(\"\\nSmoothed Trigram Analysis:\")\n",
        "analyze_ngram_model(Trigram_sm)\n"
      ],
      "metadata": {
        "colab": {
          "base_uri": "https://localhost:8080/"
        },
        "id": "4mQAG6srwCxR",
        "outputId": "67dc709c-8061-498c-86c6-af1f8fdb8a23"
      },
      "execution_count": null,
      "outputs": [
        {
          "output_type": "stream",
          "name": "stdout",
          "text": [
            "Bigram Analysis:\n",
            "Total histories: 77806\n",
            "Histories with only one continuation: 37166 (47.77%)\n",
            "Max number of continuations for a single history: 19019\n",
            "History/histories with most continuations: ['the']\n",
            "\n",
            "Smoothed Bigram Analysis:\n",
            "Total histories: 77806\n",
            "Histories with only one continuation: 37166 (47.77%)\n",
            "Max number of continuations for a single history: 19019\n",
            "History/histories with most continuations: ['the']\n",
            "\n",
            "Trigram Analysis:\n",
            "Total histories: 901820\n",
            "Histories with only one continuation: 648435 (71.90%)\n",
            "Max number of continuations for a single history: 9058\n",
            "History/histories with most continuations: ['<s> <s>']\n",
            "\n",
            "Smoothed Trigram Analysis:\n",
            "Total histories: 901820\n",
            "Histories with only one continuation: 648435 (71.90%)\n",
            "Max number of continuations for a single history: 9058\n",
            "History/histories with most continuations: ['<s> <s>']\n"
          ]
        }
      ]
    },
    {
      "cell_type": "markdown",
      "metadata": {
        "id": "mmREq7Zhc91S"
      },
      "source": [
        "█████ ANSWER UNDER THIS LINE █████\n",
        "\n",
        "**Bigram Analysis**\n",
        "- The number of histories with only one continuation: 37166\n",
        "- Its percentage is 47.77%\n",
        "- The history with the most possible continuations is $['the']$.\n",
        "\n",
        "**Smoothed Bigram Analysis**\n",
        "- The number of histories with only one continuation: 37166\n",
        "- Its percentage is 47.77%\n",
        "- The history with the most possible continuations is $['the']$.\n",
        "\n",
        "**Trigram Analysis**\n",
        "- The number of histories with only one continuation: 648435\n",
        "- Its percentage is 71.90%\n",
        "- The history with the most possible continuations is $['<s> <s>']$.\n",
        "\n",
        "**Smoothed Trigram Analysis**\n",
        "- The number of histories with only one continuation: 648435\n",
        "- Its percentage is 71.90%\n",
        "- The history with the most possible continuations is $['<s> <s>']$."
      ]
    },
    {
      "cell_type": "markdown",
      "metadata": {
        "id": "-l9-iEXFvBqP"
      },
      "source": [
        "## Ex 2.3 Train sent. prob. [5pt]\n",
        "\n",
        "**Recall** that if we have a sentence $w_1,\\dots,w_n$ we can write\n",
        "\n",
        "$$P(w_1\\dots w_n) = P(w_1)P(w_2|w_1) \\cdots P(w_n|w_1 \\dots w_{n-1}) \\approx P(w_1)P(w_2|w_1)\\cdots P(w_n|w_{n-(N-1)}\\dots w_{n-1})\\prod_{i=1}^{n} P(w_i|w_{i-(N-1)}\\dots w_{i-1})$$\n",
        "\n",
        "where in the last step we make an $N$-gram approximation of the full conditionals.\n",
        "\n",
        "For example, in the case of a bigram (N=2), the above expression reduces to\n",
        "\n",
        "$$P(w_1 \\dots w_n)\\approx P(w_1)\\prod_{i=2}^{n} P(w_i| w_{i-1}).$$\n",
        "\n",
        "The following sentences are taken from the **training data**. Use your **unsmoothed unigram**, **bigram**, and **trigram** language model to estimate their **probabilities**:\n",
        "\n",
        "    1. Every day was about creating something new .\n",
        "    2. In this machine , a beam of protons and anti-protons are accelerated to near the speed of light and brought together in a collision , producing a burst of pure energy ."
      ]
    },
    {
      "cell_type": "code",
      "source": [
        "def sent_prob(sent, lm, N):\n",
        "    \"\"\"\n",
        "    Calculates probability of sent based on the N-gram language mode lm\n",
        "    :param sent: tokenized sentence string\n",
        "    :param lm: N-gram language model\n",
        "    :param N: N-gram size\n",
        "    :returns: probabilitity number\n",
        "    \"\"\"\n",
        "    ## YOUR CODE HERE ##\n",
        "\n",
        "    tokens = [\"<s>\"] * (N - 1) + sent.split() + [\"</s>\"]\n",
        "    prob = 1.0\n",
        "\n",
        "    if N == 1:\n",
        "        # for word in tokens\n",
        "        for word in sent.split():\n",
        "            prob *= lm[word]\n",
        "    else:\n",
        "        for i in range(N - 1, len(tokens)):\n",
        "            history = \" \".join(tokens[i - (N - 1):i])\n",
        "            word = tokens[i]\n",
        "            prob *= lm[history][word]\n",
        "\n",
        "    return prob"
      ],
      "metadata": {
        "id": "i4JdPmAjNv_e"
      },
      "execution_count": null,
      "outputs": []
    },
    {
      "cell_type": "code",
      "source": [
        "# Print all the abovemnetioned probabilities (NOT log probabilities).\n",
        "# The cell output should make it clear what number stands for which probability.\n",
        "# Reuse the variables Unigram, Unigram_sm, Bigram, Bigram_sm, Trigram, and Trigram_sm.\n",
        "# Note that sent_prob should take a sentence input as a string, not as a list.\n",
        "\n",
        "Sents_from_train = (\n",
        "    \"Every day was about creating something new .\",\n",
        "    \"In this machine , a beam of protons and anti-protons are accelerated to near the speed of light and brought together in a collision , producing a burst of pure energy .\"\n",
        ")\n",
        "\n",
        "## YOUR CODE HERE ##\n",
        "\n",
        "models = {\n",
        "    \"Unigram\": Unigram,\n",
        "    \"Smoothed Unigram\": Unigram_sm,\n",
        "    \"Bigram\": Bigram,\n",
        "    \"Smoothed Bigram\": Bigram_sm,\n",
        "    \"Trigram\": Trigram,\n",
        "    \"Smoothed Trigram\": Trigram_sm\n",
        "}\n",
        "\n",
        "N_values = {\n",
        "    \"Unigram\": 1,\n",
        "    \"Smoothed Unigram\": 1,\n",
        "    \"Bigram\": 2,\n",
        "    \"Smoothed Bigram\": 2,\n",
        "    \"Trigram\": 3,\n",
        "    \"Smoothed Trigram\": 3\n",
        "}\n",
        "\n",
        "print(\"============ Train Sentence Probabilities ============\\n\")\n",
        "\n",
        "for i, sent in enumerate(Sents_from_train, 1):\n",
        "    print(f\"Sentence {i}: {sent}\\n\")\n",
        "    for model_name, lm in models.items():\n",
        "        N = N_values[model_name]\n",
        "        prob = sent_prob(sent, lm, N)\n",
        "        print(f\"{model_name:<20}: {prob}\")\n",
        "    print(\"\\n\" + \"-\"*60 + \"\\n\")"
      ],
      "metadata": {
        "colab": {
          "base_uri": "https://localhost:8080/"
        },
        "id": "qZpI22veN_BR",
        "outputId": "5fe3a6cb-d946-47ae-ec3f-72b9f3432664"
      },
      "execution_count": null,
      "outputs": [
        {
          "output_type": "stream",
          "name": "stdout",
          "text": [
            "============ Train Sentence Probabilities ============\n",
            "\n",
            "Sentence 1: Every day was about creating something new .\n",
            "\n",
            "Unigram             : 8.595078506696817e-24\n",
            "Smoothed Unigram    : 7.648867915797733e-24\n",
            "Bigram              : 4.667998867880972e-17\n",
            "Smoothed Bigram     : 1.3643677685951158e-26\n",
            "Trigram             : 1.241092166741438e-11\n",
            "Smoothed Trigram    : 1.5369890138167676e-35\n",
            "\n",
            "------------------------------------------------------------\n",
            "\n",
            "Sentence 2: In this machine , a beam of protons and anti-protons are accelerated to near the speed of light and brought together in a collision , producing a burst of pure energy .\n",
            "\n",
            "Unigram             : 2.9719712024685995e-98\n",
            "Smoothed Unigram    : 4.3536960997725495e-98\n",
            "Bigram              : 2.0159953795734388e-72\n",
            "Smoothed Bigram     : 1.5557600688003233e-116\n",
            "Trigram             : 3.570432747502253e-31\n",
            "Smoothed Trigram    : 1.4025028993533683e-136\n",
            "\n",
            "------------------------------------------------------------\n",
            "\n"
          ]
        }
      ]
    },
    {
      "cell_type": "markdown",
      "metadata": {
        "id": "uMS37P4azImr"
      },
      "source": [
        "**Repeat** this with the **smoothed (add-1)** versions of the N-grams (in the same above code cell).   \n",
        "**What** is the effect of smoothing on the probabilities and **how** the effect compare across the different $N$-grams models? Provide explanations for the effect and the comparison."
      ]
    },
    {
      "cell_type": "markdown",
      "metadata": {
        "id": "qC_RnO1_vBqQ"
      },
      "source": [
        "█████ ANSWER UNDER THIS LINE █████\n",
        "\n",
        "**Comparison of the smoothing effect accross the different N-grams models**\n",
        "\n",
        "- **Unigram**: In the first sentence, the smoothed unigram produces lower probability (7.65e-24) compared to the unsmoothed unigram (8.59e-24) but in the second sentence, the smoothed unigram produces higher probability (4.35e-98) compared to the unsmoothed unigram (2.97e-98). This probably arises from the fact that the first sentence contains mostly common words, so smoothing lowers the total probability, while the second sentence has many rarer or more domain-specific words, so smoothing has a stronger upward effect on its probability.\n",
        "\n",
        "- **Bigram**: In both sentences, smoothing reduces significantly the probability. In the first sentence, the unsmoothed bigram model gives a probability of 4.67e-17, while the smoothed version drops to 1.36e-26. In the second sentence, the probability falls from 2.02e-72 to 1.56e-116. This drop occurs because bigrams are more sparse than unigrams—many word pairs occur infrequently in the training data. When smoothing is applied, the model allocates some probability mass to unseen bigrams, reducing the share available to observed ones. As a result, even common bigram sequences receive lower probabilities, and the overall sentence likelihood decreases.\n",
        "\n",
        "- **Trigram**: In the first sentence, the smoothed trigram produces a lower probability (1.54e-35), compared to the one produced by the unsmoothed version (1.24e-11). An even drastic drop when smoothing is visible in the probabilities associated to the second sentence: the unsmoothed trigram has a probability equal to 3.57-31 and the smoothed one has probability 1.40e-136. This large reduction is due to the fact that trigram models are more sensitive to data sparsity, and the smoothing process spreads probability mass over a large number of possible unseen trigrams, while lowering the probabilities of seen ones.\n",
        "\n",
        "**General Trend Across N-gram Models**\n",
        "\n",
        "It is also generally observed that as the value of N increases (from unigram to bigram to trigram), the estimated sentence probability tends to decrease. This happens because higher-order n-gram models are more sparse: they condition on longer histories, which are less likely to be observed frequently in the training data. As a result, more sequences are assigned lower or even zero probabilities (before smoothing), and the multiplication of many small values across a sentence leads to a very low final probability."
      ]
    },
    {
      "cell_type": "markdown",
      "metadata": {
        "id": "6YFJJ2ThvBqR"
      },
      "source": [
        "## Ex 2.4 Test sent. prob. [3pt]\n",
        "\n",
        "The above sentences were taken from the training set, hence they will all have a probability greater than 0. The big challenge for our language model are of course with the sentences that contain unseen N-grams: if such an N-gram occurs our model immediately assigns the sentence probability zero.\n",
        "\n",
        "The following sentences are taken from the **test set** available in the file **ted-test.txt**.  \n",
        "**Print** the probabilities of the sentences based on the smoothed and unsmoothed language models.\n",
        "\n",
        "    1. Because these robots are really safe .\n",
        "    2. We have sheer nothingness on one side , and we have this vision of a reality that encompasses every conceivable world at the other extreme : the fullest possible reality , nothingness , the simplest possible reality ."
      ]
    },
    {
      "cell_type": "code",
      "execution_count": null,
      "metadata": {
        "id": "g3_00-2qvBqR",
        "colab": {
          "base_uri": "https://localhost:8080/"
        },
        "outputId": "056c8728-8c9c-4540-d68f-521c7affc151"
      },
      "outputs": [
        {
          "output_type": "stream",
          "name": "stdout",
          "text": [
            "============ Test Sentence Probabilities ============\n",
            "\n",
            "Sentence 1: Because these robots are really safe .\n",
            "\n",
            "Unigram             : 3.1909930364361235e-21\n",
            "Smoothed Unigram    : 2.8856992888386543e-21\n",
            "Bigram              : 2.6913665324688018e-15\n",
            "Smoothed Bigram     : 7.259723991103027e-24\n",
            "Trigram             : 0.0\n",
            "Smoothed Trigram    : 2.4688498445287095e-33\n",
            "\n",
            "------------------------------------------------------------\n",
            "\n",
            "Sentence 2: We have sheer nothingness on one side , and we have this vision of a reality that encompasses every conceivable world at the other extreme : the fullest possible reality , nothingness , the simplest possible reality .\n",
            "\n",
            "Unigram             : 7.258971740589103e-116\n",
            "Smoothed Unigram    : 6.894563883516542e-116\n",
            "Bigram              : 0.0\n",
            "Smoothed Bigram     : 1.0505398078379098e-126\n",
            "Trigram             : 0.0\n",
            "Smoothed Trigram    : 0.0\n",
            "\n",
            "------------------------------------------------------------\n",
            "\n"
          ]
        }
      ],
      "source": [
        "# Print all the abovemnetioned probabilities.\n",
        "# The cell output should make it clear what number stands for which probability.\n",
        "# Reuse the variables Unigram, Unigram_sm, Bigram, Bigram_sm, Trigram, and Trigram_sm.\n",
        "# Note that sent_prob should take a sentence input as a string, not as a list.\n",
        "\n",
        "Sents_from_test = (\n",
        "    \"Because these robots are really safe .\",\n",
        "    \"We have sheer nothingness on one side , and we have this vision of a reality that encompasses every conceivable world at the other extreme : the fullest possible reality , nothingness , the simplest possible reality .\"\n",
        ")\n",
        "### YOUR CODE HERE ###\n",
        "\n",
        "models = {\n",
        "    \"Unigram\": Unigram,\n",
        "    \"Smoothed Unigram\": Unigram_sm,\n",
        "    \"Bigram\": Bigram,\n",
        "    \"Smoothed Bigram\": Bigram_sm,\n",
        "    \"Trigram\": Trigram,\n",
        "    \"Smoothed Trigram\": Trigram_sm\n",
        "}\n",
        "\n",
        "N_values = {\n",
        "    \"Unigram\": 1,\n",
        "    \"Smoothed Unigram\": 1,\n",
        "    \"Bigram\": 2,\n",
        "    \"Smoothed Bigram\": 2,\n",
        "    \"Trigram\": 3,\n",
        "    \"Smoothed Trigram\": 3\n",
        "}\n",
        "\n",
        "print(\"============ Test Sentence Probabilities ============\\n\")\n",
        "\n",
        "for i, sent in enumerate(Sents_from_test, 1):\n",
        "    print(f\"Sentence {i}: {sent}\\n\")\n",
        "    for model_name, lm in models.items():\n",
        "        N = N_values[model_name]\n",
        "        prob = sent_prob(sent, lm, N)\n",
        "        print(f\"{model_name:<20}: {prob}\")\n",
        "    print(\"\\n\" + \"-\"*60 + \"\\n\")"
      ]
    },
    {
      "cell_type": "markdown",
      "metadata": {
        "id": "yXJZrc6bD3X-"
      },
      "source": [
        "**Contrast** the smoothed and unsmoothed probabilities and **explain** the drastic changes (if any) in terms of unseen tokens and sequences."
      ]
    },
    {
      "cell_type": "markdown",
      "metadata": {
        "id": "wy10zAGgvBqR"
      },
      "source": [
        "█████ ANSWER UNDER THIS LINE █████\n",
        "\n",
        "#### **Sentence 1**\n",
        "\n",
        "**Unigram** :\n",
        "- **Unsmoothed:** 3.19e-21\n",
        "- **Smoothed:** 2.89e-21\n",
        "\n",
        "The smoothing process has returned a slightly lower probability. This shows that most individuals words are likely present in the training data and that  smoothing only adjusts probabilities to handle unknown words.\n",
        "\n",
        "**Bigram**\n",
        "- **Unsmoothed:** 2.69e-15\n",
        "- **Smoothed:** 7.26e-24\n",
        "\n",
        "Smoothing has lowered drastically the probability, redistributing probability mass across all bigrams. Smoothing reduces the probabilities of known (frequent) bigrams to make room for the unseen ones and as a result, the probabilities of the observed bigrams are lowered.\n",
        "\n",
        "**Trigram**\n",
        "- **Unsmoothed:** 0.0\n",
        "- **Smoothed:** 2.47e-33\n",
        "\n",
        "The unsmoothed trigram model returns 0, indicating that at least one trigram in this sentence was unseen in the training set. The smoothed trigram model, on the other hand, assigns a very small but non-zero probability (2.47e-33). This illustrates how smoothing prevents the entire sentence from being assigned zero probability, even if some trigrams are missing.\n",
        "\n",
        "---\n",
        "\n",
        "#### **Sentence 2**\n",
        "\n",
        "**Unigram**\n",
        "- **Unsmoothed:** 7.26e-116\n",
        "- **Smoothed:** 6.89e-116\n",
        "\n",
        "The smoothing process has returned a slightly lower probability. This shows that most words in the sentence are present in the training data, since smoothing spreads probability more evenly across all possible words, including rare or unseen ones.\n",
        "\n",
        "**Bigram**\n",
        "- **Unsmoothed:** 0.0\n",
        "- **Smoothed:** 1.05e-126\n",
        "\n",
        "The unsmoothed bigram probability is 0, indicating that at least one bigram in the sentence was unseen in the training data. The smoothed bigram model, however, assigns a small non-zero probability (1.05e-126). This shows how smoothing reallocates probability mass to unseen bigrams, preventing a zero probability for the sentence.\n",
        "\n",
        "**Trigram**\n",
        "- **Unsmoothed:** 0.0\n",
        "- **Smoothed:** 0.0\n",
        "\n",
        "Both the unsmoothed and smoothed trigram models assign a probability of 0. This suggests overwhelming sparsity. This might be due to the fact that the sentence consists of so many unseen trigrams that even smoothed values fall below floating-point precision, resulting in an effective zero."
      ]
    },
    {
      "cell_type": "markdown",
      "metadata": {
        "id": "9x4nV5NVvBqS"
      },
      "source": [
        "### [Extra]\n",
        "\n",
        "**Optional** What percentage of the sentences in the test set get assigned probability 0 under your smoothed and unsmoothed language models?"
      ]
    },
    {
      "cell_type": "code",
      "execution_count": null,
      "metadata": {
        "id": "RZY0PfSlvBqS",
        "colab": {
          "base_uri": "https://localhost:8080/"
        },
        "outputId": "cea88c3e-9873-4022-b1ed-d1aa94f80fb2"
      },
      "outputs": [
        {
          "output_type": "stream",
          "name": "stdout",
          "text": [
            "=== Percentage of Test Sentences with Probability 0 ===\n",
            "Unigram             : 11.19%\n",
            "Smoothed Unigram    : 0.00%\n",
            "Bigram              : 71.33%\n",
            "Smoothed Bigram     : 11.19%\n",
            "Trigram             : 89.16%\n",
            "Smoothed Trigram    : 71.33%\n"
          ]
        }
      ],
      "source": [
        "### ANSWER HERE ###\n",
        "\n",
        "# Load test sentences from file\n",
        "with open(TED_FILES['test'], \"r\", encoding=\"utf-8\") as f:\n",
        "    test_sents = [line.strip() for line in f if line.strip()]\n",
        "\n",
        "# Define models and their N-gram size\n",
        "models = {\n",
        "    \"Unigram\": (Unigram, 1),\n",
        "    \"Smoothed Unigram\": (Unigram_sm, 1),\n",
        "    \"Bigram\": (Bigram, 2),\n",
        "    \"Smoothed Bigram\": (Bigram_sm, 2),\n",
        "    \"Trigram\": (Trigram, 3),\n",
        "    \"Smoothed Trigram\": (Trigram_sm, 3),\n",
        "}\n",
        "\n",
        "# Initialize counters\n",
        "zero_prob_counts = {model: 0 for model in models}\n",
        "total = len(test_sents)\n",
        "\n",
        "# Go through each sentence and each model\n",
        "for sent in test_sents:\n",
        "    for model_name, (lm, N) in models.items():\n",
        "        prob = sent_prob(sent, lm, N)\n",
        "        if prob == 0.0:\n",
        "            zero_prob_counts[model_name] += 1\n",
        "\n",
        "# Print percentages\n",
        "print(\"=== Percentage of Test Sentences with Probability 0 ===\")\n",
        "for model_name in models:\n",
        "    percent_zero = (zero_prob_counts[model_name] / total) * 100\n",
        "    print(f\"{model_name:<20}: {percent_zero:.2f}%\")"
      ]
    },
    {
      "cell_type": "markdown",
      "metadata": {
        "id": "u7HXaUKivBqS"
      },
      "source": [
        "## Ex 2.5 Perplexity [6pt]\n",
        "\n",
        "**Perplexity** is a very frequently used **metric** for evaluating probabilistic models such as language models. The perplexity (sometimes called **PP** for short) of a language model on a sentence is the **inverse probability** of the sentence, **normalized** by the number of words:\n",
        "\n",
        "$$PP(w_1 \\dots w_n) = P(w_1\\dots w_n)^{-\\frac{1}{n}}.$$\n",
        "\n",
        "Here we can again approximate $P(w_1 \\dots w_n)$ with N-gram probabilities, as above.\n",
        "\n",
        "Note: Calculation of perplexity has a resemblance with the **geometric mean** $(x_1\\cdots x_n)^{-\\frac{1}{n}}$ of the numbers $x_1,\\dots,x_n$. It is like the (regular) arithmetic mean, but with **products** instead of **sums**. The geometric mean is a more natural choice in the case of *PP* because behind $P(w_1\\dots w_n)$ is a series of $n$ products ([more here](https://en.wikipedia.org/wiki/Geometric_mean)).\n",
        "\n",
        "\n",
        "\n",
        "Compute the perplexity of the sample sentences from the training and test data (`Sents_from_train` and `Sents_from_test` from Ex2.3-4) based on the smoothed bigram language model. It is recommended to use `sent_prob` from Ex 2.3.\n",
        "\n",
        "What big difference between the **probabilities** of the sentences and the **perplexities** of the sentences do you notice?  \n",
        "**Support** your answer with additional, stronger evidence, such as a plot based on more sentences or the entire data, and further **explain** the difference."
      ]
    },
    {
      "cell_type": "code",
      "source": [
        "# Feel free to reuse functions and variables form the previous exercises\n",
        "# use Sents_from_train and Sents_from_test\n",
        "### YOUR CODE HERE ###\n",
        "\n",
        "def perplexity(sent, lm, N):\n",
        "    prob = sent_prob(sent, lm, N)\n",
        "    num_words = len(sent.split())  # Excludes <s> and </s>\n",
        "    if prob == 0:\n",
        "        return float('inf')  # Avoid math domain error\n",
        "    return prob ** (-1 / num_words)\n",
        "\n",
        "# Use Smoothed Bigram\n",
        "model = Bigram_sm\n",
        "N = 2\n",
        "\n",
        "print(\"=== Perplexity with Smoothed Bigram Model ===\\n\")\n",
        "\n",
        "print(\"From Training Set:\")\n",
        "for i, sent in enumerate(Sents_from_train, 1):\n",
        "    prob = sent_prob(sent, model, N)\n",
        "    ppl = perplexity(sent, model, N)\n",
        "    print(f\"Sentence {i}:\\n  Prob: {prob}\\n  Perplexity: {ppl:.2f}\\n\")\n",
        "\n",
        "print(\"From Test Set:\")\n",
        "for i, sent in enumerate(Sents_from_test, 1):\n",
        "    prob = sent_prob(sent, model, N)\n",
        "    ppl = perplexity(sent, model, N)\n",
        "    print(f\"Sentence {i}:\\n  Prob: {prob}\\n  Perplexity: {ppl:.2f}\\n\")"
      ],
      "metadata": {
        "colab": {
          "base_uri": "https://localhost:8080/"
        },
        "id": "oi840HrTUZ_L",
        "outputId": "7b01edae-dd9e-40a4-8947-c7495c9b0362"
      },
      "execution_count": null,
      "outputs": [
        {
          "output_type": "stream",
          "name": "stdout",
          "text": [
            "=== Perplexity with Smoothed Bigram Model ===\n",
            "\n",
            "From Training Set:\n",
            "Sentence 1:\n",
            "  Prob: 1.3643677685951158e-26\n",
            "  Perplexity: 1710.54\n",
            "\n",
            "Sentence 2:\n",
            "  Prob: 1.5557600688003233e-116\n",
            "  Perplexity: 4159.12\n",
            "\n",
            "From Test Set:\n",
            "Sentence 1:\n",
            "  Prob: 7.259723991103027e-24\n",
            "  Perplexity: 2021.08\n",
            "\n",
            "Sentence 2:\n",
            "  Prob: 1.0505398078379098e-126\n",
            "  Perplexity: 2066.46\n",
            "\n"
          ]
        }
      ]
    },
    {
      "cell_type": "markdown",
      "metadata": {
        "id": "2bWMxWTwvBqT"
      },
      "source": [
        "█████ ANSWER UNDER THIS LINE █████\n",
        "\n",
        "**Lower Probability → Higher Perplexity:**\n",
        "\n",
        "As the probability decreases, the perplexity increases. This is because perplexity is calculated as the inverse of the probability raised to the power of -1/n (where n is the number of words in the sentence). So, if the probability is low, the perplexity will be high, reflecting the uncertainty of the model in predicting the sentence.\n",
        "\n",
        "**Training Set vs. Test Set:**\n",
        "\n",
        "Sentences from the training set generally have higher probabilities and lower perplexities compared to those from the test set, because the model has already seen these training sentences, and therefore the probability of these words and bigrams is higher.\n",
        "\n",
        "In our case, the second sentence form the training set has the highest perplexity, probably because it contains a lot of rare and domain-specific words."
      ]
    },
    {
      "cell_type": "code",
      "source": [
        "# Load the train and test data\n",
        "train_data = read_data(TED_FILES['train'], h=2)  # Use h=2 for consistent padding\n",
        "test_data = read_data(TED_FILES['test'], h=2)  # Use h=2 for consistent padding\n",
        "\n",
        "# Flatten the list of lists into a list of sentences\n",
        "train_sentences = [\" \".join(sentence[2:-1]) for sentence in train_data] # remove <s> and </s>\n",
        "test_sentences = [\" \".join(sentence[2:-1]) for sentence in test_data] # remove <s> and </s>"
      ],
      "metadata": {
        "id": "RXl85wZ0U80C"
      },
      "execution_count": null,
      "outputs": []
    },
    {
      "cell_type": "code",
      "source": [
        "import numpy as np\n",
        "import matplotlib.pyplot as plt\n",
        "import seaborn as sns\n",
        "\n",
        "# Compute lengths and log-probabilities\n",
        "train_lengths = [len(sent.split()) for sent in train_sentences]\n",
        "train_log_probs = [np.log(sent_prob(sent, model, N)) if sent_prob(sent, model, N) > 0 else float('-inf') for sent in train_sentences]\n",
        "\n",
        "test_lengths = [len(sent.split()) for sent in test_sentences]\n",
        "test_log_probs = [np.log(sent_prob(sent, model, N)) if sent_prob(sent, model, N) > 0 else float('-inf') for sent in test_sentences]\n",
        "\n",
        "# Set up subplots\n",
        "fig, axes = plt.subplots(2, 1, figsize=(12, 10), sharex=True)\n",
        "\n",
        "# Train plot\n",
        "sns.scatterplot(x=train_lengths, y=train_log_probs, ax=axes[0])\n",
        "axes[0].set_title('Train Set: Sentence Length vs Log Probability')\n",
        "axes[0].set_ylabel('Log Probability')\n",
        "\n",
        "# Test plot\n",
        "sns.scatterplot(x=test_lengths, y=test_log_probs, ax=axes[1])\n",
        "axes[1].set_title('Test Set: Sentence Length vs Log Probability')\n",
        "axes[1].set_xlabel('Sentence Length')\n",
        "axes[1].set_ylabel('Log Probability')\n",
        "\n",
        "plt.tight_layout()\n",
        "plt.show()"
      ],
      "metadata": {
        "colab": {
          "base_uri": "https://localhost:8080/",
          "height": 1000
        },
        "id": "QWb2CJ-P0kfC",
        "outputId": "ef9e901c-075e-4f88-aa87-4bbbed0e6f64"
      },
      "execution_count": null,
      "outputs": [
        {
          "output_type": "display_data",
          "data": {
            "text/plain": [
              "<Figure size 1200x1000 with 2 Axes>"
            ],
            "image/png": "[encoded data removed]"
          },
          "metadata": {}
        }
      ]
    },
    {
      "cell_type": "markdown",
      "source": [
        "**Negative correlation:** There's a strong negative correlation between sentence length and log probability in both train and test sets. This is expected — longer sentences accumulate more probabilities (multiplied together), resulting in lower total probabilities (more negative log values).\n",
        "\n",
        "**Different Sentence Length Distributions:** There is a difference in the distribution of sentence lengths. The test set seems to have significantly shorter sentences than the training set. This difference in the data characteristics could influence the perplexity results. If the test set contains simpler, shorter sentences on average, the model could assign them relatively higher probabilities compared to the more complex and longer sentences in the training set."
      ],
      "metadata": {
        "id": "KTQhstSBVAGV"
      }
    },
    {
      "cell_type": "markdown",
      "metadata": {
        "id": "gIO0GbXPn1zw"
      },
      "source": [
        "## Work description for Ex 2\n",
        "\n",
        "YOUR ANSWER HERE [100-200 words]\n",
        "\n",
        "**Ex 2.1: N-gram Model Training**\n",
        "\n",
        "The most challenging part was implementing efficient add-k smoothing to handle unknown words/histories. We resolved this by using a `defaultdict` with a custom default probability function.\n",
        "\n",
        "**Ex 2.2: Sentence Generation**\n",
        "\n",
        "The main difficulty was handling the unigram case (N=1) separately, as it doesn't involve any history. We had to ensure the code correctly predicted the next word based on the appropriate context (or lack thereof, in the unigram case).\n",
        "\n",
        "**Ex 2.3/2.4: Sentence Probability**\n",
        "We implemented a function to compute the probability of a sentence using the trained N-gram model.The challenge here was to correctly multiply the probabilities of each N-gram, while again handling the unigram case separately due to the absence of history.\n",
        "\n",
        "**Ex 2.5: Perplexity**\n",
        "We created a function to calculate the perplexity of sequences using the probabilities obtained from the N-gram model. A crucial aspect was to implement proper handling of zero probabilities to prevent errors and ensure a correct perplexity calculation.\n",
        "\n",
        "**Assistance and Tools:**\n",
        "- Throughout the exercise, we used GenAI as a supportive tool. For example, we used GenAI during Ex 2.1 to better understand how to structure `defaultdict` logic.\n",
        "\n",
        "- The TA provided guidance in Ex 2.5 about the results and the plots."
      ]
    },
    {
      "cell_type": "markdown",
      "metadata": {
        "id": "_lZOzaX5vBqT"
      },
      "source": [
        "# That's it!\n",
        "\n",
        "Congratulations, you have made it to the end of the tutorial. Here we will recap the gist of this notebook.\n",
        "\n",
        "**Make sure all your cells can be executed and all your answers are there. Then, read on if you're interested!**\n",
        "\n",
        "-----\n",
        "\n",
        "By now you should have a solid feeling for the problem of **sparsity in language data**; there's just never enough data. For the task of language modelling, we saw that sparsity is a serious challenge.\n",
        "\n",
        "It would be great to be able to model $p(w_n|w_1 \\dots w_{n-1})$ for unlimited $n$: the larger $n$ the better our language model should become at capturing the long-range dependencies between words that characterize actual human sentences, and the more probability our model will assign to such sentences as opposed to sentences that are word-soup. But in the N-gram approach, increasing $n$ will quickly kill all generalizing abilities of the model: the model will start to assign probabilities only to sentences it has seen in the training data.\n",
        "\n",
        "So, where to go from here? Here are three directions that we could head in.\n",
        "\n",
        "### Smoothing\n",
        "\n",
        "We have seen one example of smoothing in this lab: add-k smoothing. This is an easy method, both conceptually and implementation-wise. But the results are not great, and the effects it has on the distributions can be extreme.\n",
        "\n",
        "A much more sophisticated method of smoothing is **Kneser-Ney smoothing**. The method is described in detail in section 4.5 of J&M (3rd edition). This is one of the best-performing N-gram smoothing methods, and up to a few years ago, a popular implementation of it called [KenLM](https://kheafield.com/code/kenlm/) gave state-of-the-art results.\n",
        "\n",
        "### From words to characters\n",
        "\n",
        "In this lab we have considered language modeling as the task of predicting a **word** $w_n$ based on a history of **words** $w_1\\cdots w_n$. What if instead we let our basic units of modelling be **characters**? The task then becomes to model $p(c_k\\mid c_{k-N-1}\\dots c_{k-1})$ where each $c_i$ is now an ASCII character instead of an entire word.\n",
        "\n",
        "Suddenly sparsity of data is no longer a problem! The set of characters to use is tiny (< 100) compared to even a small-sized vocabulary as today. Have a look at this very illustrative notebook written by Yoav Golberg to see such a method in action: [The unreasonable effectiveness of Character-level Language Models](http://nbviewer.jupyter.org/gist/yoavg/d76121dfde2618422139).\n",
        "\n",
        "(So what is the downside?)\n",
        "\n",
        "\n",
        "### Neural language models\n",
        "\n",
        "The above notebook was actually written as a response to this blog post by Andrej Karpathy: [The Unreasonable Effectiveness of Recurrent Neural Networks](http://karpathy.github.io/2015/05/21/rnn-effectiveness/). Go ahead and read it if you haven't already: it is a superb introduction to the topic of Recurrent Neural Networks.\n",
        "\n",
        "Neural language models solve the problem of data sparsity in a different manner. Instead of estimating the probabilities $p(w_k\\mid w_{k-N-1}\\dots w_{k-1})$ by counting occurrences in the data, they use a neural network $f_{\\theta}$ parametrized by parameters $\\theta$ to predict this probability. The parameters $\\theta$ are learned through optimization.\n",
        "\n",
        "The simplest approach goes like this: each word in the history $w_{k-N-1}\\dots w_{k-1}$ is embedded separately giving vectors $e_{k-N-1}\\dots e_{k-1}$ and then concatenated into one long vector $[e_{k-N-1};\\dots ;e_{k-1}]$. The network then uses this history vector to predict a probability distribution over words $w$ in the vocabulary $V$:\n",
        "\n",
        "$$p(w \\mid w_{k-N-1}\\dots w_{k-1}) = f_{\\theta}([e_{k-N-1};\\dots;e_{k-1}]).$$\n",
        "\n",
        "(In order to produce legitimate probabilities the final layer of such a network will be for example a $softmax$.)\n",
        "\n",
        "This provides a solution to the sparsity problem by having the network let the individual embeddings of the words in the history interact through its non-linear transformation. We are letting the network figure out the smoothing itself!\n",
        "\n",
        "RNNs are a clever extension of this idea, where a hidden state vector $h$ is re-used and updated at each step $k$ in order to store the information of the entire history up to step $k-1$. That is, an RNN actually does away with the N-order approximation; it tries to model the full conditional directly! That means that\n",
        "\n",
        "$$p(w \\mid w_1\\dots w_{k-1}) \\approx RNN_{\\theta}([e_{k-1};h_{k-1}])$$\n",
        "\n",
        "where the hidden state $h_{k-1}$ is a compression of the *entire history* $w_1\\dots w_{k-1}$.\n",
        "\n",
        "Another great place to learn about RNNs, their problems, and solutions to those, is on the blog of [Christopher Olah](http://colah.github.io/posts/2015-08-Understanding-LSTMs/).\n",
        "\n",
        "-----------\n",
        "(And now, it's time to read the classic essay by Eugene Wigner that gave both of the posts their title: [The Unreasonable Effectiveness of Mathematics in the Natural Sciences](http://www.dartmouth.edu/~matc/MathDrama/reading/Wigner.html))"
      ]
    },
    {
      "cell_type": "markdown",
      "metadata": {
        "id": "acBrUUTFFdHr"
      },
      "source": [
        "# Acknowledgments\n",
        "\n",
        "Most of this lab was developed in collaboration with Joost Bastings and Dan Douwe.  \n",
        "Later it was revised by a couple of people.  \n",
        "The recent updates by Lasha Abzianidze make the notebook more streamlined and foolproof from the grading and the large course perspectives."
      ]
    }
  ],
  "metadata": {
    "anaconda-cloud": {},
    "colab": {
      "provenance": [],
      "toc_visible": true
    },
    "kernelspec": {
      "display_name": "Python 3 (ipykernel)",
      "language": "python",
      "name": "python3"
    },
    "language_info": {
      "codemirror_mode": {
        "name": "ipython",
        "version": 3
      },
      "file_extension": ".py",
      "mimetype": "text/x-python",
      "name": "python",
      "nbconvert_exporter": "python",
      "pygments_lexer": "ipython3",
      "version": "3.8.10"
    },
    "toc": {
      "base_numbering": 1,
      "nav_menu": {},
      "number_sections": true,
      "sideBar": true,
      "skip_h1_title": false,
      "title_cell": "Table of Contents",
      "title_sidebar": "Contents",
      "toc_cell": false,
      "toc_position": {},
      "toc_section_display": true,
      "toc_window_display": false
    }
  },
  "nbformat": 4,
  "nbformat_minor": 0
}